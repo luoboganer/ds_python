{
 "cells": [
  {
   "cell_type": "markdown",
   "metadata": {},
   "source": [
    " * @Author: shifaqiang(石发强)--[14061115@buaa.edu.cn] \n",
    " * @Date: 2018-11-15 09:14:53 \n",
    " * @Last Modified by:   shifaqiang \n",
    " * @Last Modified time: 2018-11-15 09:14:53\n",
    " * @Desc: Chapter Six"
   ]
  },
  {
   "cell_type": "markdown",
   "metadata": {},
   "source": [
    "# chapter 6(二叉树和树)"
   ]
  },
  {
   "cell_type": "markdown",
   "metadata": {},
   "source": [
    "## code 1\n",
    "原书第323。。。页【page 32。。。。3】\n",
    "插入排序算法"
   ]
  },
  {
   "cell_type": "code",
   "execution_count": null,
   "metadata": {},
   "outputs": [],
   "source": []
  }
 ],
 "metadata": {
  "kernelspec": {
   "display_name": "Python 3",
   "language": "python",
   "name": "python3"
  },
  "language_info": {
   "codemirror_mode": {
    "name": "ipython",
    "version": 3
   },
   "file_extension": ".py",
   "mimetype": "text/x-python",
   "name": "python",
   "nbconvert_exporter": "python",
   "pygments_lexer": "ipython3",
   "version": "3.6.5"
  }
 },
 "nbformat": 4,
 "nbformat_minor": 2
}
