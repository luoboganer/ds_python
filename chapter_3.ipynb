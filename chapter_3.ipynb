{
 "cells": [
  {
   "cell_type": "markdown",
   "metadata": {},
   "source": [
    " * @Author: shifaqiang(石发强)--[14061115@buaa.edu.cn] \n",
    " * @Date: 2018-09-10 13:16:49 \n",
    " * @Last Modified by:   shifaqiang \n",
    " * @Last Modified time: 2018-09-10 13:16:49\n",
    " * @Desc: Chapter Three"
   ]
  },
  {
   "cell_type": "markdown",
   "metadata": {},
   "source": [
    "# chapter 3(线性表)"
   ]
  },
  {
   "cell_type": "markdown",
   "metadata": {},
   "source": [
    "## code 1\n",
    "原书第78页【page 78】   \n",
    "连续存储的顺序表翻转（reverse）方法，$O(n)$时间复杂度"
   ]
  },
  {
   "cell_type": "code",
   "execution_count": 1,
   "metadata": {},
   "outputs": [],
   "source": [
    "def reverse(lst):\n",
    "    i,j=0,len(lst)-1\n",
    "    while i<j:\n",
    "        lst[i],lst[j]=lst[j],lst[i]\n",
    "        i,j=i+1,j-1\n",
    "    return lst"
   ]
  },
  {
   "cell_type": "code",
   "execution_count": 2,
   "metadata": {},
   "outputs": [
    {
     "name": "stdout",
     "output_type": "stream",
     "text": [
      "[0, 3, 6, 9, 12, 15, 18, 21, 24, 27, 30, 33, 36, 39, 42, 45, 48]\n",
      "[48, 45, 42, 39, 36, 33, 30, 27, 24, 21, 18, 15, 12, 9, 6, 3, 0]\n"
     ]
    }
   ],
   "source": [
    "# test 1\n",
    "lst=list(range(0,50,3))\n",
    "print(lst)\n",
    "lst=reverse(lst)\n",
    "print(lst)"
   ]
  },
  {
   "cell_type": "code",
   "execution_count": 4,
   "metadata": {},
   "outputs": [
    {
     "name": "stdout",
     "output_type": "stream",
     "text": [
      "[0, 2, 4, 6, 8, 10, 12, 14, 16, 18, 20, 22, 24, 26, 28, 30, 32, 34, 36, 38, 40, 42, 44, 46]\n",
      "[46, 44, 42, 40, 38, 36, 34, 32, 30, 28, 26, 24, 22, 20, 18, 16, 14, 12, 10, 8, 6, 4, 2, 0]\n"
     ]
    }
   ],
   "source": [
    "# test 2\n",
    "lst=list(range(0,48,2))\n",
    "print(lst)\n",
    "lst=reverse(lst)\n",
    "print(lst)"
   ]
  },
  {
   "cell_type": "markdown",
   "metadata": {},
   "source": [
    "## code 2\n",
    "原书第84页【page 84】  \n",
    "单链表的基本实现"
   ]
  },
  {
   "cell_type": "code",
   "execution_count": 11,
   "metadata": {},
   "outputs": [
    {
     "name": "stdout",
     "output_type": "stream",
     "text": [
      "1 2 3 4 5 6 7 8 9 10 "
     ]
    }
   ],
   "source": [
    "# defination of single node\n",
    "class LNode:\n",
    "    def __init__(self,elem,next_=None):\n",
    "        self.elem=elem\n",
    "        self.next=next_\n",
    "# test of single node\n",
    "list1=LNode(1)\n",
    "p=list1\n",
    "for i in range(2,11):\n",
    "    p.next=LNode(i)\n",
    "    p=p.next\n",
    "    \n",
    "p=list1\n",
    "while p:\n",
    "    print(p.elem,end=\" \")\n",
    "    p=p.next"
   ]
  },
  {
   "cell_type": "code",
   "execution_count": 196,
   "metadata": {},
   "outputs": [],
   "source": [
    "# defination of exception\n",
    "class linkedListUnderflow(ValueError):\n",
    "    pass\n",
    "# defination of linked list\n",
    "class LList:\n",
    "    def __init__(self):\n",
    "        self._head=None\n",
    "    def is_empty(self):\n",
    "        return self._head is None\n",
    "    def prepend(self,elem):\n",
    "        # insert a node in LList head\n",
    "        # p=LNode(elem)\n",
    "        # p.next=self._head\n",
    "        # self._head=p\n",
    "        self._head=LNode(elem,self._head)\n",
    "    def pop(self):\n",
    "        # pop the head(first) node element\n",
    "        if self._head is None:\n",
    "            raise linkedListUnderflow(\"in pop operation\")\n",
    "        e=self._head.elem\n",
    "        self._head=self._head.next\n",
    "        return e\n",
    "    def append(self,elem):\n",
    "        # insert a node in LList rear\n",
    "        if self._head is None:\n",
    "            self._head=LNode(elem)\n",
    "            return\n",
    "        p=self._head\n",
    "        while p.next:\n",
    "            p=p.next\n",
    "        p.next=LNode(elem)\n",
    "    def pop_last(self):\n",
    "        # LList is empty\n",
    "        if self._head is None:\n",
    "            raise linkedListUnderflow(\"in pop_last operation\")\n",
    "        p=self._head\n",
    "        # only one element\n",
    "        if p.next is None:\n",
    "            e=p.elem\n",
    "            self._head=None\n",
    "            return e\n",
    "        # more than one element\n",
    "        while p.next.next:\n",
    "            p=p.next\n",
    "        e=p.next.elem\n",
    "        p.next=None\n",
    "        return e\n",
    "    def find(self,elem,pred):\n",
    "        # find the first element that satifies the condition pred\n",
    "        p=self._head\n",
    "        while p:\n",
    "            if pred(p.elem):\n",
    "                return p.elem\n",
    "            p=p.next\n",
    "    def print_all(self):\n",
    "        # print all elements of LList\n",
    "        p=self._head\n",
    "        while p:\n",
    "            print(p.elem,end=\"\")\n",
    "            if p.next:\n",
    "                print(\", \",end=\"\")\n",
    "            p=p.next\n",
    "        print(\"\")\n",
    "    def for_each(self,pred):\n",
    "        # traverse of LList\n",
    "        p=self._head\n",
    "        while p:\n",
    "            pred(p.elem)\n",
    "            p=p.next\n",
    "    def elements(self):\n",
    "        # iteration of all LList elements\n",
    "        p=self._head\n",
    "        while p:\n",
    "            yield p.elem\n",
    "            p=p.next\n",
    "    def filters(self,pred):\n",
    "        # find all LList elements that satify hte condition pred\n",
    "        p=self._head\n",
    "        while p:\n",
    "            if pred(p.elem):\n",
    "                yield p.elem\n",
    "            p=p.next"
   ]
  },
  {
   "cell_type": "code",
   "execution_count": 25,
   "metadata": {},
   "outputs": [
    {
     "name": "stdout",
     "output_type": "stream",
     "text": [
      "9, 8, 7, 6, 5, 4, 3, 2, 1, 0, 11, 12, 13, 14, 15, 16, 17, 18, 19\n"
     ]
    }
   ],
   "source": [
    "mlsit1=LList()\n",
    "# 头插入\n",
    "for i in range(10):\n",
    "    mlsit1.prepend(i)\n",
    "# 尾插入\n",
    "for i in range(11,20):\n",
    "    mlsit1.append(i)\n",
    "# 输出链表查看效果\n",
    "mlsit1.print_all()"
   ]
  },
  {
   "cell_type": "code",
   "execution_count": 50,
   "metadata": {},
   "outputs": [
    {
     "name": "stdout",
     "output_type": "stream",
     "text": [
      "9\n",
      "8\n",
      "7\n",
      "6\n",
      "5\n",
      "4\n",
      "3\n",
      "2\n",
      "1\n",
      "0\n",
      "11\n",
      "12\n",
      "13\n",
      "14\n",
      "15\n",
      "16\n",
      "17\n",
      "18\n",
      "19\n"
     ]
    }
   ],
   "source": [
    "# test of traverse method\n",
    "mlsit1.for_each(print)"
   ]
  },
  {
   "cell_type": "code",
   "execution_count": 27,
   "metadata": {},
   "outputs": [
    {
     "name": "stdout",
     "output_type": "stream",
     "text": [
      "-1\n",
      "-2\n",
      "-3\n",
      "-4\n",
      "-5\n",
      "-6\n",
      "-7\n",
      "-8\n",
      "-9\n",
      "-10\n",
      "1\n",
      "2\n",
      "3\n",
      "4\n",
      "5\n",
      "6\n",
      "7\n",
      "8\n",
      "9\n"
     ]
    }
   ],
   "source": [
    "def sub_print(i):\n",
    "    print(i-10)\n",
    "mlsit1.for_each(sub_print)"
   ]
  },
  {
   "cell_type": "code",
   "execution_count": 29,
   "metadata": {},
   "outputs": [
    {
     "name": "stdout",
     "output_type": "stream",
     "text": [
      "9\n",
      "8\n",
      "7\n",
      "6\n",
      "5\n",
      "4\n",
      "3\n",
      "2\n",
      "1\n",
      "0\n",
      "11\n",
      "12\n",
      "13\n",
      "14\n",
      "15\n",
      "16\n",
      "17\n",
      "18\n",
      "19\n"
     ]
    }
   ],
   "source": [
    "# test of iteration\n",
    "for x in mlsit1.elements():\n",
    "    print(x)"
   ]
  },
  {
   "cell_type": "code",
   "execution_count": 34,
   "metadata": {},
   "outputs": [
    {
     "name": "stdout",
     "output_type": "stream",
     "text": [
      "9\n",
      "6\n",
      "3\n",
      "12\n",
      "15\n",
      "18\n"
     ]
    }
   ],
   "source": [
    "# test of filter\n",
    "def test_filters(i):\n",
    "    if i%3==0:\n",
    "        return i\n",
    "for i in mlsit1.filters(test_filters):\n",
    "    print(i)"
   ]
  },
  {
   "cell_type": "code",
   "execution_count": 31,
   "metadata": {},
   "outputs": [
    {
     "data": {
      "text/plain": [
       "True"
      ]
     },
     "execution_count": 31,
     "metadata": {},
     "output_type": "execute_result"
    }
   ],
   "source": [
    "0%3==0"
   ]
  },
  {
   "cell_type": "markdown",
   "metadata": {},
   "source": [
    "## code 3\n",
    "原书第90页【page 90】  \n",
    "带尾指针的普通单链表"
   ]
  },
  {
   "cell_type": "code",
   "execution_count": 197,
   "metadata": {},
   "outputs": [],
   "source": [
    "class LList_1(LList):\n",
    "    # initialization of sub_object\n",
    "    def __init__(self):\n",
    "        LList.__init__(self)\n",
    "        self._rear=None\n",
    "    # 头插入时需要判断头尾指针是否为空\n",
    "    def prepend(self,elem):\n",
    "        if self._head is None:\n",
    "            self._head=LNode(elem,self._head)\n",
    "            self._rear=self._head\n",
    "        else:\n",
    "            self._head=LNode(elem,self._head)\n",
    "    # 定义尾指针吼尾插入从O(n)简化到O(1)\n",
    "    def append(self,elem):\n",
    "        # 链表的变动操作大多需要考虑其是否空链表\n",
    "        if self._head is None:\n",
    "            self._head=LNode(elem,self._head)\n",
    "            self._rear=self._head\n",
    "        else:\n",
    "            self._rear.next=LNode(elem)\n",
    "            self._rear=self._rear.next\n",
    "    def pop_last(self):\n",
    "        if self._head is None:\n",
    "            raise linkedListUnderflow(\"in pop_last operation\")\n",
    "        p=self._head\n",
    "        if p.next is None:\n",
    "            e=p.elem\n",
    "            self._head=None\n",
    "            return e\n",
    "        while p.next.next:\n",
    "            p=p.next\n",
    "        e=p.next.elem\n",
    "        p.next=None\n",
    "        self._rear=p \n",
    "        return e"
   ]
  },
  {
   "cell_type": "code",
   "execution_count": 45,
   "metadata": {},
   "outputs": [
    {
     "name": "stdout",
     "output_type": "stream",
     "text": [
      "99 30 14 45 16 25 34 26 28 20 "
     ]
    }
   ],
   "source": [
    "# test of single linked list with rear pointer\n",
    "import numpy as np\n",
    "mlist2=LList_1()\n",
    "mlist2.prepend(99)\n",
    "for i in range(11,20):\n",
    "    mlist2.append(np.random.randint(11,50))\n",
    "for x in mlist2.elements():\n",
    "    print(x,end=\" \")"
   ]
  },
  {
   "cell_type": "code",
   "execution_count": 46,
   "metadata": {},
   "outputs": [
    {
     "name": "stdout",
     "output_type": "stream",
     "text": [
      "30 14 16 34 26 28 20 "
     ]
    }
   ],
   "source": [
    "for x in mlist2.filters(lambda y:y%2==0):\n",
    "    print(x,end=\" \")"
   ]
  },
  {
   "cell_type": "markdown",
   "metadata": {},
   "source": [
    "## code 4\n",
    "原书第92页【page 93】  \n",
    "循环单链表"
   ]
  },
  {
   "cell_type": "code",
   "execution_count": 143,
   "metadata": {},
   "outputs": [],
   "source": [
    "# defination of LCList class\n",
    "class LCList:\n",
    "    def __init__(self):\n",
    "        self._rear=None\n",
    "    def is_empty(self):\n",
    "        return self._rear is None\n",
    "    def prepend(self,elem):\n",
    "        p=LNode(elem)\n",
    "        if self._rear is None:\n",
    "            #空的循环链表头插入时体现为单节点循环\n",
    "            p.next=p\n",
    "            self._rear=p\n",
    "        else:\n",
    "            p.next=self._rear.next\n",
    "            self._rear.next=p\n",
    "    def append(self,elem):\n",
    "        # 尾插入\n",
    "        self.prepend(elem)\n",
    "        self._rear=self._rear.next\n",
    "    def pop(self):\n",
    "        # 前端弹出\n",
    "        if self._rear is None:\n",
    "            raise linkedListUnderflow(\"in pop operation\")\n",
    "        p=self._rear.next\n",
    "        if self._rear is p:\n",
    "            # only one node, then the LCList is empty\n",
    "            self._rear=None\n",
    "        else:\n",
    "            self._rear.next=p.next\n",
    "        return p.elem\n",
    "    def pop_last(self):\n",
    "        # 后端弹出\n",
    "        if self._rear is None:\n",
    "            raise linkedListUnderflow(\"in pop_last operation\")\n",
    "        p=self._rear.next\n",
    "        if self._rear is p:\n",
    "            self._rear=None\n",
    "            return p.elem\n",
    "        else:\n",
    "            while p.next is not self._rear:\n",
    "                p=p.next\n",
    "        tmp=p.next\n",
    "        p.next=self._rear.next\n",
    "        self._rear=p\n",
    "        return tmp.elem\n",
    "        \n",
    "    def print_all(self):\n",
    "        if self._rear is None:\n",
    "            return\n",
    "        p=self._rear.next # 扫描指针指向表头，准备开始扫描\n",
    "        while True:\n",
    "            print(p.elem,end=\" \")\n",
    "            if p is self._rear:\n",
    "                break\n",
    "            p=p.next"
   ]
  },
  {
   "cell_type": "code",
   "execution_count": 144,
   "metadata": {},
   "outputs": [
    {
     "name": "stdout",
     "output_type": "stream",
     "text": [
      "9 8 7 6 5 4 3 2 1 0 50 51 52 53 54 55 56 57 58 59 "
     ]
    }
   ],
   "source": [
    "# test of single linked list with rear pointer\n",
    "import numpy as np\n",
    "mlist3=LCList()\n",
    "for i in range(10):\n",
    "    mlist3.prepend(i)\n",
    "for i in range(50,60):\n",
    "    mlist3.append(i)\n",
    "mlist3.print_all()"
   ]
  },
  {
   "cell_type": "code",
   "execution_count": 145,
   "metadata": {},
   "outputs": [
    {
     "name": "stdout",
     "output_type": "stream",
     "text": [
      "9\n",
      "8 7 6 5 4 3 2 1 0 50 51 52 53 54 55 56 57 58 59 "
     ]
    }
   ],
   "source": [
    "print(mlist3.pop())\n",
    "mlist3.print_all()"
   ]
  },
  {
   "cell_type": "code",
   "execution_count": 146,
   "metadata": {},
   "outputs": [
    {
     "name": "stdout",
     "output_type": "stream",
     "text": [
      "59\n",
      "8 7 6 5 4 3 2 1 0 50 51 52 53 54 55 56 57 58 "
     ]
    }
   ],
   "source": [
    "print(mlist3.pop_last())\n",
    "mlist3.print_all()"
   ]
  },
  {
   "cell_type": "code",
   "execution_count": 147,
   "metadata": {},
   "outputs": [
    {
     "data": {
      "text/plain": [
       "False"
      ]
     },
     "execution_count": 147,
     "metadata": {},
     "output_type": "execute_result"
    }
   ],
   "source": [
    "mlist3.is_empty()"
   ]
  },
  {
   "cell_type": "markdown",
   "metadata": {},
   "source": [
    "## code 5\n",
    "原书第94页【page 94】  \n",
    "普通双链表"
   ]
  },
  {
   "cell_type": "code",
   "execution_count": 161,
   "metadata": {},
   "outputs": [],
   "source": [
    "class DLNode(LNode):\n",
    "    def __init__(self,elem,prev=None,next_=None):\n",
    "        LNode.__init__(self,elem,next_)\n",
    "        self.prev=prev\n",
    "class DLList(LList_1):\n",
    "    def __init__(self):\n",
    "        LList_1.__init__(self)\n",
    "    \n",
    "    def prepend(self,elem):\n",
    "        p=DLNode(elem,None,self._head)\n",
    "        # 空表\n",
    "        if self._head is None:\n",
    "            self._rear=p\n",
    "        else:\n",
    "            p.next.prev=p\n",
    "        self._head=p\n",
    "    def append(self,elem):\n",
    "        p=DLNode(elem,self._rear,None)\n",
    "        # 空表\n",
    "        if self._head is None:\n",
    "            self._head=p\n",
    "        else:\n",
    "            p.prev.next=p\n",
    "        self._rear=p\n",
    "    def pop(self):\n",
    "        if self._head is None:\n",
    "            raise linkedListUnderflow(\"in pop operation\")\n",
    "        e=self._head.elem\n",
    "        self._head=self._head.next\n",
    "        if self._head:\n",
    "            self._head.prev=None\n",
    "        return e\n",
    "    def pop_last(self):\n",
    "        if self._head is None:\n",
    "            raise linkedListUnderflow(\"in pop_last operation\")\n",
    "        e=self._rear.elem\n",
    "        self._rear=self._rear.prev\n",
    "        if self._rear is None:\n",
    "            self._head=None # 设置head为None是为了保证is_empty正常工作\n",
    "        else:\n",
    "            self._rear.next=None\n",
    "        return e"
   ]
  },
  {
   "cell_type": "code",
   "execution_count": 162,
   "metadata": {},
   "outputs": [
    {
     "name": "stdout",
     "output_type": "stream",
     "text": [
      "9, 8, 7, 6, 5, 4, 3, 2, 1, 0, 50, 51, 52, 53, 54, 55, 56, 57, 58, 59\n"
     ]
    }
   ],
   "source": [
    "# test of single linked list with rear pointer\n",
    "import numpy as np\n",
    "mlist4=DLList()\n",
    "for i in range(10):\n",
    "    mlist4.prepend(i)\n",
    "for i in range(50,60):\n",
    "    mlist4.append(i)\n",
    "mlist4.print_all()"
   ]
  },
  {
   "cell_type": "code",
   "execution_count": 163,
   "metadata": {},
   "outputs": [
    {
     "name": "stdout",
     "output_type": "stream",
     "text": [
      "9\n",
      "8, 7, 6, 5, 4, 3, 2, 1, 0, 50, 51, 52, 53, 54, 55, 56, 57, 58, 59\n"
     ]
    }
   ],
   "source": [
    "print(mlist4.pop())\n",
    "mlist4.print_all() "
   ]
  },
  {
   "cell_type": "code",
   "execution_count": 164,
   "metadata": {},
   "outputs": [
    {
     "name": "stdout",
     "output_type": "stream",
     "text": [
      "59\n",
      "8, 7, 6, 5, 4, 3, 2, 1, 0, 50, 51, 52, 53, 54, 55, 56, 57, 58\n"
     ]
    }
   ],
   "source": [
    "print(mlist4.pop_last())\n",
    "mlist4.print_all()"
   ]
  },
  {
   "cell_type": "code",
   "execution_count": 169,
   "metadata": {},
   "outputs": [
    {
     "data": {
      "text/plain": [
       "False"
      ]
     },
     "execution_count": 169,
     "metadata": {},
     "output_type": "execute_result"
    }
   ],
   "source": [
    "mlist4.is_empty()"
   ]
  },
  {
   "cell_type": "markdown",
   "metadata": {},
   "source": [
    "## code 6\n",
    "原书第95页【page 95】   \n",
    "链表反转"
   ]
  },
  {
   "cell_type": "code",
   "execution_count": 202,
   "metadata": {},
   "outputs": [],
   "source": [
    "class LList_2(LList_1):\n",
    "    def rev(self):\n",
    "        p=None\n",
    "        while self._head is not None:\n",
    "            q=self._head\n",
    "            self._head=q.next\n",
    "            q.next=p\n",
    "            p=q\n",
    "        self._head=p"
   ]
  },
  {
   "cell_type": "code",
   "execution_count": 214,
   "metadata": {},
   "outputs": [
    {
     "name": "stdout",
     "output_type": "stream",
     "text": [
      "9, 8, 7, 6, 5, 4, 3, 2, 1, 0, 30, 31, 32, 33, 34, 35, 36, 37, 38, 39\n"
     ]
    }
   ],
   "source": [
    "mlist5=LList_2()\n",
    "for i in range(10):\n",
    "    mlist5.prepend(i)\n",
    "for i in range(30,40):\n",
    "    mlist5.append(i)\n",
    "mlist5.print_all()"
   ]
  },
  {
   "cell_type": "code",
   "execution_count": 216,
   "metadata": {},
   "outputs": [
    {
     "name": "stdout",
     "output_type": "stream",
     "text": [
      "9, 8, 7, 6, 5, 4, 3, 2, 1, 0, 30, 31, 32, 33, 34, 35, 36, 37, 38, 39\n"
     ]
    }
   ],
   "source": [
    "mlist5.rev()\n",
    "mlist5.print_all()"
   ]
  },
  {
   "cell_type": "markdown",
   "metadata": {},
   "source": [
    "## code 7\n",
    "原书第98页【page 98】   \n",
    "链表排序"
   ]
  },
  {
   "cell_type": "code",
   "execution_count": 239,
   "metadata": {},
   "outputs": [],
   "source": [
    "# 列表的简单插入排序，两重循环，O(n^2)\n",
    "def list_sort(lst):\n",
    "    for i in range(1,len(lst)):\n",
    "        x=lst[i]\n",
    "        j=i\n",
    "        while j>0 and lst[j-1]>x:\n",
    "            lst[j]=lst[j-1]\n",
    "            j-=1\n",
    "        lst[j]=x"
   ]
  },
  {
   "cell_type": "code",
   "execution_count": 240,
   "metadata": {},
   "outputs": [
    {
     "name": "stdout",
     "output_type": "stream",
     "text": [
      "original list:\n",
      "[253, 798, 486, 393, 448, 116, 265, 477, 516, 24]\n",
      "sorted list:\n",
      "[24, 116, 253, 265, 393, 448, 477, 486, 516, 798]\n"
     ]
    }
   ],
   "source": [
    "import numpy as np\n",
    "lst=[]\n",
    "for i in range(10):\n",
    "    lst.append(np.random.randint(0,1000))\n",
    "\n",
    "print(\"original list:\")\n",
    "print(lst)\n",
    "list_sort(lst)\n",
    "print(\"sorted list:\")\n",
    "print(lst)"
   ]
  },
  {
   "cell_type": "code",
   "execution_count": 242,
   "metadata": {},
   "outputs": [],
   "source": [
    "# 简单链表中的插入排序\n",
    "class sort_LList(LList):\n",
    "    # 通过移动元素实现插入排序\n",
    "    def sort_1(self):\n",
    "        if self._head is None:\n",
    "            # 空表即默认有序\n",
    "            return\n",
    "        # 置于一个元素则认为有序，从第二个元素开始扫描\n",
    "        crt=self._head.next\n",
    "        while crt:\n",
    "            x=crt.elem\n",
    "            p=self._head\n",
    "            while p is not crt and p.elem<=x:\n",
    "                # 第二层循环，从表头开始扫描找到当前元素的合适位置\n",
    "                p=p.next # 跳过小元素\n",
    "            while p is not crt:\n",
    "                # 倒换大元素，即大于当前值x=crt.elem的元素值全部后移，通过元素的移动实现插入排序\n",
    "                y=p.elem\n",
    "                p.elem=x\n",
    "                x=y\n",
    "                p=p.next\n",
    "            crt.elem=x\n",
    "            # continue to process next element\n",
    "            crt=crt.next\n",
    "    # 通过改变链接关系实现插入排序\n",
    "    def sort_2(self):\n",
    "        p=self._head\n",
    "        if p is None or p.next is None:\n",
    "            #空表或是仅有一个元素 \n",
    "            return \n",
    "        rem=p.next\n",
    "        p.next=None\n",
    "        while rem:\n",
    "            p=self._head\n",
    "            q=None\n",
    "            while p and p.elem<=rem.elem:\n",
    "                q=p\n",
    "                p=p.next\n",
    "            # 此时已经找到了第一个比当前待排序元素（rem）大的元素p，则rem应该插入q、p之间\n",
    "            if q is None:\n",
    "                self._head=rem\n",
    "            else:\n",
    "                q.next=rem\n",
    "            q=rem\n",
    "            rem=rem.next\n",
    "            q.next=p"
   ]
  },
  {
   "cell_type": "code",
   "execution_count": 245,
   "metadata": {},
   "outputs": [
    {
     "name": "stdout",
     "output_type": "stream",
     "text": [
      "original linked list:\n",
      "358, 733, 768, 62, 871, 238, 442, 659, 147, 366, 916, 743, 281, 52, 409, 700, 723, 581, 556, 782\n",
      "sorted linked list(with method one):\n",
      "52, 62, 147, 238, 281, 358, 366, 409, 442, 556, 581, 659, 700, 723, 733, 743, 768, 782, 871, 916\n"
     ]
    }
   ],
   "source": [
    "import numpy as np\n",
    "mlist6=sort_LList()\n",
    "for i in range(0,20):\n",
    "    mlist6.prepend(np.random.randint(0,1000))\n",
    "print(\"original linked list:\")\n",
    "mlist6.print_all()\n",
    "print(\"sorted linked list(with method one):\")\n",
    "mlist6.sort_1()\n",
    "mlist6.print_all()"
   ]
  },
  {
   "cell_type": "code",
   "execution_count": 247,
   "metadata": {},
   "outputs": [
    {
     "name": "stdout",
     "output_type": "stream",
     "text": [
      "original linked list:\n",
      "81, 423, 391, 787, 166, 816, 657, 722, 360, 655, 596, 366, 509, 614, 399, 145, 168, 299, 725, 544\n",
      "sorted linked list(with method two):\n",
      "81, 145, 166, 168, 299, 360, 366, 391, 399, 423, 509, 544, 596, 614, 655, 657, 722, 725, 787, 816\n"
     ]
    }
   ],
   "source": [
    "import numpy as np\n",
    "mlist6=sort_LList()\n",
    "for i in range(0,20):\n",
    "    mlist6.prepend(np.random.randint(0,1000))\n",
    "print(\"original linked list:\")\n",
    "mlist6.print_all()\n",
    "print(\"sorted linked list(with method two):\")\n",
    "mlist6.sort_2()\n",
    "mlist6.print_all()"
   ]
  },
  {
   "cell_type": "markdown",
   "metadata": {},
   "source": [
    "## code 8\n",
    "原书第99页【page 99】   \n",
    "[Josephus](https://en.wikipedia.org/wiki/Josephus_problem \"Josephus problem\")问题，即猴子数大王  \n",
    "\n",
    "n个人围成一圈儿从第k个人开始报数，报到第m个人出列，继续报数知道所有人出列\n",
    "\n",
    "1. \"数组\"解法 $O(n^2log(n))$\n",
    "2. 顺序表解法 $O(n^2)$\n",
    "3. 循环单链表解法 $O(m*n)$"
   ]
  },
  {
   "cell_type": "code",
   "execution_count": 263,
   "metadata": {},
   "outputs": [
    {
     "name": "stdout",
     "output_type": "stream",
     "text": [
      "8 5 3 2 4 7 1 6 9 10 "
     ]
    }
   ],
   "source": [
    "# \"数组\"解法\n",
    "def josephus_1(n,k,m):\n",
    "    people=list(range(1,n+1))\n",
    "    i=k-1 # 从第k个人开始报数\n",
    "    for num in range(n):\n",
    "        count=0\n",
    "        while count<m:\n",
    "            if people[i]!=0:\n",
    "                # 逐个报数\n",
    "                count+=1\n",
    "            if count==m:\n",
    "                # 第m个人被踢出，标记为0\n",
    "                print(people[i],end=\" \")\n",
    "                people[i]=0\n",
    "            i=(i+1)%n\n",
    "    return\n",
    "# test\n",
    "josephus_1(10,2,7)"
   ]
  },
  {
   "cell_type": "code",
   "execution_count": 266,
   "metadata": {},
   "outputs": [
    {
     "name": "stdout",
     "output_type": "stream",
     "text": [
      "8 5 3 2 4 7 1 6 9 10 "
     ]
    }
   ],
   "source": [
    "# 顺序表解法\n",
    "def josephus_2(n,k,m):\n",
    "    people=list(range(1,n+1))\n",
    "    num,i=n,k-1\n",
    "    for num in range(n,0,-1):\n",
    "        i=(i+m-1)%num #此时列表中只有num个人了，因为每次循环踢掉一个人\n",
    "        print(people.pop(i),end=\" \")\n",
    "    return\n",
    "josephus_2(10,2,7)"
   ]
  },
  {
   "cell_type": "code",
   "execution_count": 273,
   "metadata": {},
   "outputs": [],
   "source": [
    "# 循环单链表解法\n",
    "class Josephus_3(LCList):\n",
    "    def turn(self,m):\n",
    "        #往后跳m个\n",
    "        for i in range(m):\n",
    "            self._rear=self._rear.next\n",
    "    def __init__(self,n,k,m):\n",
    "        LCList.__init__(self)\n",
    "        for i in range(n):\n",
    "            self.append(i+1)\n",
    "        self.turn(k-1) # 先跳到第k个位置准备开始\n",
    "        while not self.is_empty():\n",
    "            self.turn(m-1)\n",
    "            print(self.pop(),end=\" \")"
   ]
  },
  {
   "cell_type": "code",
   "execution_count": 274,
   "metadata": {},
   "outputs": [
    {
     "name": "stdout",
     "output_type": "stream",
     "text": [
      "8 5 3 2 4 7 1 6 9 10 "
     ]
    }
   ],
   "source": [
    "josephus_3=Josephus_3(10,2,7)"
   ]
  }
 ],
 "metadata": {
  "kernelspec": {
   "display_name": "Python 3",
   "language": "python",
   "name": "python3"
  },
  "language_info": {
   "codemirror_mode": {
    "name": "ipython",
    "version": 3
   },
   "file_extension": ".py",
   "mimetype": "text/x-python",
   "name": "python",
   "nbconvert_exporter": "python",
   "pygments_lexer": "ipython3",
   "version": "3.6.5"
  }
 },
 "nbformat": 4,
 "nbformat_minor": 2
}
