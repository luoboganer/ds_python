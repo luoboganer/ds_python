{
 "cells": [
  {
   "cell_type": "markdown",
   "metadata": {},
   "source": [
    "# chapter 1(绪论)"
   ]
  },
  {
   "cell_type": "markdown",
   "metadata": {},
   "source": [
    "## code 1\n",
    "原书第四页【page 4】\n",
    "求一个数的平方根一般的做法有两种\n",
    "1. 二分查找法\n",
    "2. 牛顿迭代法（详见[newton iteration](https://baike.baidu.com/item/%E7%89%9B%E9%A1%BF%E8%BF%AD%E4%BB%A3%E6%B3%95)）：\n",
    "![newton iteration](./data/chapter_1_newton_iteration.png \"牛顿迭代法\")"
   ]
  },
  {
   "cell_type": "code",
   "execution_count": 4,
   "metadata": {},
   "outputs": [
    {
     "name": "stdout",
     "output_type": "stream",
     "text": [
      "3.162277665175675\n",
      "3.000000001396984\n"
     ]
    }
   ],
   "source": [
    "# sqrt implementation in page 4\n",
    "# newton iteration method ； https://baike.baidu.com/item/%E7%89%9B%E9%A1%BF%E8%BF%AD%E4%BB%A3%E6%B3%95\n",
    "def sqrt(x,e=10**(-6)):\n",
    "    y=1.0\n",
    "    while abs(y*y-x)>e:\n",
    "        y=(y+x/y)/2\n",
    "    return y\n",
    "print(sqrt(10))\n",
    "print(sqrt(9))"
   ]
  },
  {
   "cell_type": "markdown",
   "metadata": {},
   "source": [
    "## code 2\n",
    "原书第十八页【page 18】 [斐波那契数列](https://baike.baidu.com/item/%E6%96%90%E6%B3%A2%E9%82%A3%E5%A5%91%E6%95%B0%E5%88%97 \"百度百科\")的不同求法\n",
    "\n",
    "   1. 递归与非递归的 [c++实现](https://blog.csdn.net/qq_33951180/article/details/52484080)"
   ]
  },
  {
   "cell_type": "code",
   "execution_count": 4,
   "metadata": {},
   "outputs": [
    {
     "name": "stdout",
     "output_type": "stream",
     "text": [
      "计算fib(45)\n",
      "fib(45)=1134903170\n",
      "递归方法，耗时：527.8446080684662 s\n",
      "fib(45)=1134903170\n",
      "非递归方法，耗时：0.000997781753540039 s\n"
     ]
    }
   ],
   "source": [
    "import time\n",
    "\n",
    "# fib(n): f1=1, f2=1, f3=2, f4=3, f5=5, ...\n",
    "\n",
    "# 1.递归方法\n",
    "def fib_r(n):\n",
    "    if n<=2:\n",
    "        return 1\n",
    "    else:\n",
    "        return fib_r(n-1)+fib_r(n-2)\n",
    "# 2.非递归方法\n",
    "def fib(n):\n",
    "    f1,f2=1,1\n",
    "    for i in range(1,n-1):\n",
    "        f1,f2=f2,f1+f2\n",
    "    return f2\n",
    "\n",
    "n=45\n",
    "print(\"计算fib({})\".format(n))\n",
    "current_time=time.time()\n",
    "print(\"fib({})={}\".format(n,fib_r(n)))\n",
    "print(\"递归方法，耗时：{} s\".format(time.time()-current_time))\n",
    "\n",
    "current_time=time.time()\n",
    "print(\"fib({})={}\".format(n,fib(n)))\n",
    "print(\"非递归方法，耗时：{} s\".format(time.time()-current_time))\n"
   ]
  },
  {
   "cell_type": "code",
   "execution_count": null,
   "metadata": {},
   "outputs": [],
   "source": []
  }
 ],
 "metadata": {
  "kernelspec": {
   "display_name": "Python 3",
   "language": "python",
   "name": "python3"
  },
  "language_info": {
   "codemirror_mode": {
    "name": "ipython",
    "version": 3
   },
   "file_extension": ".py",
   "mimetype": "text/x-python",
   "name": "python",
   "nbconvert_exporter": "python",
   "pygments_lexer": "ipython3",
   "version": "3.6.5"
  }
 },
 "nbformat": 4,
 "nbformat_minor": 2
}
