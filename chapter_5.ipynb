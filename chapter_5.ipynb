{
 "cells": [
  {
   "cell_type": "markdown",
   "metadata": {},
   "source": [
    " * @Author: shifaqiang(石发强)--[14061115@buaa.edu.cn] \n",
    " * @Date: 2018-10 21:37:49\n",
    " * @Last Modified by: shifaqiang \n",
    " * @Last Modified time: 2018-10 21:37:49\n",
    " * @Desc: Chapter Five"
   ]
  },
  {
   "cell_type": "markdown",
   "metadata": {},
   "source": [
    "# chapter 5(栈和队列)"
   ]
  },
  {
   "cell_type": "markdown",
   "metadata": {},
   "source": [
    "## code 1\n",
    "原书第318页【page 138】   \n",
    "栈结构的两周实现方式"
   ]
  },
  {
   "cell_type": "code",
   "execution_count": 1,
   "metadata": {},
   "outputs": [
    {
     "name": "stdout",
     "output_type": "stream",
     "text": [
      "the serial of push stack is 1 3 5 7 9 \n",
      "the top of the stack is 9\n",
      "the serial of pop stack is 9 7 5 3 1 \n"
     ]
    },
    {
     "ename": "StackUnderflow",
     "evalue": "in SStack.pop()",
     "output_type": "error",
     "traceback": [
      "\u001b[1;31m---------------------------------------------------------------------------\u001b[0m",
      "\u001b[1;31mStackUnderflow\u001b[0m                            Traceback (most recent call last)",
      "\u001b[1;32m<ipython-input-1-f5c49495b107>\u001b[0m in \u001b[0;36m<module>\u001b[1;34m()\u001b[0m\n\u001b[0;32m     40\u001b[0m \u001b[1;33m\u001b[0m\u001b[0m\n\u001b[0;32m     41\u001b[0m \u001b[1;31m# 此时stack空，会报错\u001b[0m\u001b[1;33m\u001b[0m\u001b[1;33m\u001b[0m\u001b[0m\n\u001b[1;32m---> 42\u001b[1;33m \u001b[0mprint\u001b[0m\u001b[1;33m(\u001b[0m\u001b[0ms1\u001b[0m\u001b[1;33m.\u001b[0m\u001b[0mpop\u001b[0m\u001b[1;33m(\u001b[0m\u001b[1;33m)\u001b[0m\u001b[1;33m)\u001b[0m\u001b[1;33m\u001b[0m\u001b[0m\n\u001b[0m",
      "\u001b[1;32m<ipython-input-1-f5c49495b107>\u001b[0m in \u001b[0;36mpop\u001b[1;34m(self)\u001b[0m\n\u001b[0;32m     21\u001b[0m     \u001b[1;32mdef\u001b[0m \u001b[0mpop\u001b[0m\u001b[1;33m(\u001b[0m\u001b[0mself\u001b[0m\u001b[1;33m)\u001b[0m\u001b[1;33m:\u001b[0m\u001b[1;33m\u001b[0m\u001b[0m\n\u001b[0;32m     22\u001b[0m         \u001b[1;32mif\u001b[0m \u001b[0mself\u001b[0m\u001b[1;33m.\u001b[0m\u001b[0mis_empty\u001b[0m\u001b[1;33m(\u001b[0m\u001b[1;33m)\u001b[0m\u001b[1;33m:\u001b[0m\u001b[1;33m\u001b[0m\u001b[0m\n\u001b[1;32m---> 23\u001b[1;33m             \u001b[1;32mraise\u001b[0m \u001b[0mStackUnderflow\u001b[0m\u001b[1;33m(\u001b[0m\u001b[1;34m\"in SStack.pop()\"\u001b[0m\u001b[1;33m)\u001b[0m\u001b[1;33m\u001b[0m\u001b[0m\n\u001b[0m\u001b[0;32m     24\u001b[0m         \u001b[1;32mreturn\u001b[0m \u001b[0mself\u001b[0m\u001b[1;33m.\u001b[0m\u001b[0m_elems\u001b[0m\u001b[1;33m.\u001b[0m\u001b[0mpop\u001b[0m\u001b[1;33m(\u001b[0m\u001b[1;33m)\u001b[0m\u001b[1;33m\u001b[0m\u001b[0m\n\u001b[0;32m     25\u001b[0m \u001b[1;33m\u001b[0m\u001b[0m\n",
      "\u001b[1;31mStackUnderflow\u001b[0m: in SStack.pop()"
     ]
    }
   ],
   "source": [
    "# stack 下溢出，即空栈访问\n",
    "class StackUnderflow(ValueError):\n",
    "    pass\n",
    "\n",
    "# stack 的顺序表实现，在表尾实现O(1)的元素插入、访问、删除\n",
    "class SStack():\n",
    "    def __init__(self):\n",
    "        self._elems=[]\n",
    "        \n",
    "    def is_empty(self):\n",
    "        return self._elems == []\n",
    "\n",
    "    def top(self):\n",
    "        if self.is_empty():\n",
    "            raise StackUnderflow(\"in SStack.top()\")\n",
    "        return self._elems[-1]\n",
    "\n",
    "    def push(self,elem):\n",
    "        self._elems.append(elem)\n",
    "        \n",
    "    def pop(self):\n",
    "        if self.is_empty():\n",
    "            raise StackUnderflow(\"in SStack.pop()\")\n",
    "        return self._elems.pop()\n",
    "\n",
    "s1=SStack()\n",
    "\n",
    "print(\"the serial of push stack is \",end=\"\")\n",
    "for i in range(5):\n",
    "    s1.push(2*i+1)\n",
    "    print(2*i+1,end=\" \")\n",
    "print()\n",
    "\n",
    "print(\"the top of the stack is {}\".format(s1.top()))\n",
    "\n",
    "print(\"the serial of pop stack is \",end=\"\")\n",
    "for j in range(5):\n",
    "    print(s1.pop(),end=\" \")\n",
    "print()\n",
    "\n",
    "# 此时stack空，会报错\n",
    "print(s1.pop())"
   ]
  },
  {
   "cell_type": "code",
   "execution_count": 18,
   "metadata": {},
   "outputs": [],
   "source": [
    "# stack 的链接表实现，在链表表头实现O(1)的元素插入、访问、删除\n",
    "class LNode():\n",
    "    def __init__(self,elem,next_=None):\n",
    "        self._elem=elem\n",
    "        self._next=next_\n",
    "\n",
    "class LStack():\n",
    "    def __init__(self):\n",
    "        self._top=None\n",
    "    \n",
    "    def is_empty(slef):\n",
    "        return self._top is None\n",
    "    \n",
    "    def top(self):\n",
    "        if self.is_empty():\n",
    "            raise StackUnderflow(\"In LStack.top()\")\n",
    "        return self._top._elem\n",
    "    \n",
    "    def push(self,elem):\n",
    "        self._top=LNode(elem,self._top)\n",
    "    \n",
    "    def pop(self):\n",
    "        if self.is_empty():\n",
    "            raise StackUnderflow(\"in LStack.pop()\")\n",
    "        p=self._top\n",
    "        self._top=p.next\n",
    "        return p.elem"
   ]
  },
  {
   "cell_type": "code",
   "execution_count": 19,
   "metadata": {},
   "outputs": [
    {
     "name": "stdout",
     "output_type": "stream",
     "text": [
      "the serial of push stack is 1 3 5 7 9 \n",
      "the top of the stack is 9\n",
      "the serial of pop stack is 9 7 5 3 1 \n"
     ]
    },
    {
     "ename": "StackUnderflow",
     "evalue": "in SStack.pop()",
     "output_type": "error",
     "traceback": [
      "\u001b[1;31m---------------------------------------------------------------------------\u001b[0m",
      "\u001b[1;31mStackUnderflow\u001b[0m                            Traceback (most recent call last)",
      "\u001b[1;32m<ipython-input-19-231714db452c>\u001b[0m in \u001b[0;36m<module>\u001b[1;34m()\u001b[0m\n\u001b[0;32m     15\u001b[0m \u001b[1;33m\u001b[0m\u001b[0m\n\u001b[0;32m     16\u001b[0m \u001b[1;31m# 此时stack空，会报错\u001b[0m\u001b[1;33m\u001b[0m\u001b[1;33m\u001b[0m\u001b[0m\n\u001b[1;32m---> 17\u001b[1;33m \u001b[0mprint\u001b[0m\u001b[1;33m(\u001b[0m\u001b[0ms2\u001b[0m\u001b[1;33m.\u001b[0m\u001b[0mpop\u001b[0m\u001b[1;33m(\u001b[0m\u001b[1;33m)\u001b[0m\u001b[1;33m)\u001b[0m\u001b[1;33m\u001b[0m\u001b[0m\n\u001b[0m",
      "\u001b[1;32m<ipython-input-15-f5c49495b107>\u001b[0m in \u001b[0;36mpop\u001b[1;34m(self)\u001b[0m\n\u001b[0;32m     21\u001b[0m     \u001b[1;32mdef\u001b[0m \u001b[0mpop\u001b[0m\u001b[1;33m(\u001b[0m\u001b[0mself\u001b[0m\u001b[1;33m)\u001b[0m\u001b[1;33m:\u001b[0m\u001b[1;33m\u001b[0m\u001b[0m\n\u001b[0;32m     22\u001b[0m         \u001b[1;32mif\u001b[0m \u001b[0mself\u001b[0m\u001b[1;33m.\u001b[0m\u001b[0mis_empty\u001b[0m\u001b[1;33m(\u001b[0m\u001b[1;33m)\u001b[0m\u001b[1;33m:\u001b[0m\u001b[1;33m\u001b[0m\u001b[0m\n\u001b[1;32m---> 23\u001b[1;33m             \u001b[1;32mraise\u001b[0m \u001b[0mStackUnderflow\u001b[0m\u001b[1;33m(\u001b[0m\u001b[1;34m\"in SStack.pop()\"\u001b[0m\u001b[1;33m)\u001b[0m\u001b[1;33m\u001b[0m\u001b[0m\n\u001b[0m\u001b[0;32m     24\u001b[0m         \u001b[1;32mreturn\u001b[0m \u001b[0mself\u001b[0m\u001b[1;33m.\u001b[0m\u001b[0m_elems\u001b[0m\u001b[1;33m.\u001b[0m\u001b[0mpop\u001b[0m\u001b[1;33m(\u001b[0m\u001b[1;33m)\u001b[0m\u001b[1;33m\u001b[0m\u001b[0m\n\u001b[0;32m     25\u001b[0m \u001b[1;33m\u001b[0m\u001b[0m\n",
      "\u001b[1;31mStackUnderflow\u001b[0m: in SStack.pop()"
     ]
    }
   ],
   "source": [
    "s2=SStack()\n",
    "\n",
    "print(\"the serial of push stack is \",end=\"\")\n",
    "for i in range(5):\n",
    "    s2.push(2*i+1)\n",
    "    print(2*i+1,end=\" \")\n",
    "print()\n",
    "\n",
    "print(\"the top of the stack is {}\".format(s2.top()))\n",
    "\n",
    "print(\"the serial of pop stack is \",end=\"\")\n",
    "for j in range(5):\n",
    "    print(s2.pop(),end=\" \")\n",
    "print()\n",
    "\n",
    "# 此时stack空，会报错\n",
    "print(s2.pop())"
   ]
  },
  {
   "cell_type": "markdown",
   "metadata": {},
   "source": [
    "## code 2\n",
    "原书第141页【page 141】   \n",
    "栈结构的应用1：括号匹配问题"
   ]
  },
  {
   "cell_type": "code",
   "execution_count": 25,
   "metadata": {},
   "outputs": [],
   "source": [
    "def check_parens(text):\n",
    "    \"\"\"括号匹配检查函数，其中text是被检查的正文串\"\"\"\n",
    "    parens=\"()[]{}\" # 所有的括号字符\n",
    "    open_parens=\"([{\" # 所有的左括号\n",
    "    opposite={\")\":\"(\",\"]\":\"[\",\"}\":\"{\"} # 匹配关系字典\n",
    "    \n",
    "    def parentheses(text):\n",
    "        \"\"\"括号生成器具，每次调用返回text中的下一个括号及其位置\"\"\"\n",
    "        i,text_len=0,len(text)\n",
    "        for i in range(text_len):\n",
    "            if text[i] in parens:\n",
    "                yield i,text[i]\n",
    "    # 定义保存括号的栈\n",
    "    st=SStack()\n",
    "    for index,pr in parentheses(text):\n",
    "        if pr in open_parens:\n",
    "            st.push(pr)\n",
    "        elif st.pop()!=opposite[pr]:\n",
    "            print(\"unmatching is found at {} for {}\".format(index,pr))\n",
    "            return False\n",
    "    if st.is_empty():\n",
    "        print(\"all parenthese are correctly matched.\")\n",
    "        return True\n",
    "    else:\n",
    "        print(\"number of parentheses are not correct.\")\n",
    "        return False"
   ]
  },
  {
   "cell_type": "code",
   "execution_count": 27,
   "metadata": {},
   "outputs": [
    {
     "name": "stdout",
     "output_type": "stream",
     "text": [
      "all parenthese are correctly matched.\n"
     ]
    },
    {
     "data": {
      "text/plain": [
       "True"
      ]
     },
     "execution_count": 27,
     "metadata": {},
     "output_type": "execute_result"
    }
   ],
   "source": [
    "check_parens(\"(3-5)*(6+77*[33+{95/34}])\")"
   ]
  },
  {
   "cell_type": "markdown",
   "metadata": {},
   "source": [
    "## code 3\n",
    "原书第145页【page 145】   \n",
    "栈结构的应用2：表达式的表示、变换和计算  \n",
    "- 前缀表达式：波兰表达式\n",
    "- 中缀表达式\n",
    "- 后缀表达式：逆波兰表达式"
   ]
  },
  {
   "cell_type": "code",
   "execution_count": 4,
   "metadata": {},
   "outputs": [],
   "source": [
    "# 后缀表达式的求值\n",
    "class ESStack(SStack):\n",
    "    def depth(self):\n",
    "        return len(self._elems)\n",
    "\n",
    "# 后缀表达式的计算\n",
    "def suf_exp_evaluator(exp):\n",
    "    \"\"\"exp is a list which includes all operators and all operands,like [3,\"+\",2]\"\"\"\n",
    "    operators=\"+-*/\"\n",
    "    st=ESStack()\n",
    "    \n",
    "    # 开始遍历表达式中的每个项\n",
    "    for x in exp:\n",
    "        # x is operand\n",
    "        if x not in operators:\n",
    "            st.push(float(x))\n",
    "            continue\n",
    "        # x is operator\n",
    "        if st.depth()<2:\n",
    "            # 操作数不足两个，报错\n",
    "            raise SyntaxError(\"short of operand(s)\")\n",
    "        \n",
    "        # 从栈顶取得两个操作数\n",
    "        b=st.pop()\n",
    "        a=st.pop()\n",
    "        \n",
    "        # 判断运算符类型进行计算\n",
    "        if x==\"+\":\n",
    "            c=a+b\n",
    "        elif x==\"-\":\n",
    "            c=a-b\n",
    "        elif x==\"*\":\n",
    "            c=a*b\n",
    "        elif x==\"/\":\n",
    "            c=a/b \n",
    "        else:\n",
    "            break\n",
    "        # 计算结果压入栈顶\n",
    "        st.push(c)\n",
    "    \n",
    "    if st.depth()==1:\n",
    "        return st.pop()\n",
    "    raise SyntaxError(\"Extra operand(s).\")\n",
    "    \n",
    "# 字符串表项的分割\n",
    "def suffix_exp_evaluator(line):\n",
    "    return suf_exp_evaluator(line.split())\n",
    "\n",
    "def suffix_exp_calculator():\n",
    "    while True:\n",
    "        try:\n",
    "            line=input(\"Suffix Expression:\")\n",
    "            # 结束条件\n",
    "            if line==\"end\": return\n",
    "            res=suffix_exp_evaluator(line)\n",
    "            print(res)\n",
    "        except Exception as ex:\n",
    "            print(\"Error:{},{}\".format(type(ex),ex.args))"
   ]
  },
  {
   "cell_type": "code",
   "execution_count": 6,
   "metadata": {},
   "outputs": [
    {
     "name": "stdout",
     "output_type": "stream",
     "text": [
      "Suffix Expression:3 5 - 6 17 4 * + * 3 /\n",
      "-49.333333333333336\n",
      "Suffix Expression:42 3 /\n",
      "14.0\n",
      "Suffix Expression:55 8 + 78 89 * -\n",
      "-6879.0\n",
      "Suffix Expression:end\n"
     ]
    }
   ],
   "source": [
    "suffix_exp_calculator()"
   ]
  },
  {
   "cell_type": "code",
   "execution_count": null,
   "metadata": {},
   "outputs": [],
   "source": []
  }
 ],
 "metadata": {
  "kernelspec": {
   "display_name": "Python 3",
   "language": "python",
   "name": "python3"
  },
  "language_info": {
   "codemirror_mode": {
    "name": "ipython",
    "version": 3
   },
   "file_extension": ".py",
   "mimetype": "text/x-python",
   "name": "python",
   "nbconvert_exporter": "python",
   "pygments_lexer": "ipython3",
   "version": "3.6.5"
  }
 },
 "nbformat": 4,
 "nbformat_minor": 2
}
