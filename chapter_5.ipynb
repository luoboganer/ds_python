{
 "cells": [
  {
   "cell_type": "markdown",
   "metadata": {},
   "source": [
    " * @Author: shifaqiang(石发强)--[14061115@buaa.edu.cn] \n",
    " * @Date: 2018-10 21:37:49\n",
    " * @Last Modified by: shifaqiang \n",
    " * @Last Modified time: 2018-10 21:37:49\n",
    " * @Desc: Chapter Five"
   ]
  },
  {
   "cell_type": "markdown",
   "metadata": {},
   "source": [
    "# chapter 5(栈和队列)"
   ]
  },
  {
   "cell_type": "markdown",
   "metadata": {},
   "source": [
    "## code 1\n",
    "原书第318页【page 138】   \n",
    "栈结构的两周实现方式"
   ]
  },
  {
   "cell_type": "code",
   "execution_count": 15,
   "metadata": {},
   "outputs": [
    {
     "name": "stdout",
     "output_type": "stream",
     "text": [
      "the serial of push stack is 1 3 5 7 9 \n",
      "the top of the stack is 9\n",
      "the serial of pop stack is 9 7 5 3 1 \n"
     ]
    },
    {
     "ename": "StackUnderflow",
     "evalue": "in SStack.pop()",
     "output_type": "error",
     "traceback": [
      "\u001b[1;31m---------------------------------------------------------------------------\u001b[0m",
      "\u001b[1;31mStackUnderflow\u001b[0m                            Traceback (most recent call last)",
      "\u001b[1;32m<ipython-input-15-f5c49495b107>\u001b[0m in \u001b[0;36m<module>\u001b[1;34m()\u001b[0m\n\u001b[0;32m     40\u001b[0m \u001b[1;33m\u001b[0m\u001b[0m\n\u001b[0;32m     41\u001b[0m \u001b[1;31m# 此时stack空，会报错\u001b[0m\u001b[1;33m\u001b[0m\u001b[1;33m\u001b[0m\u001b[0m\n\u001b[1;32m---> 42\u001b[1;33m \u001b[0mprint\u001b[0m\u001b[1;33m(\u001b[0m\u001b[0ms1\u001b[0m\u001b[1;33m.\u001b[0m\u001b[0mpop\u001b[0m\u001b[1;33m(\u001b[0m\u001b[1;33m)\u001b[0m\u001b[1;33m)\u001b[0m\u001b[1;33m\u001b[0m\u001b[0m\n\u001b[0m",
      "\u001b[1;32m<ipython-input-15-f5c49495b107>\u001b[0m in \u001b[0;36mpop\u001b[1;34m(self)\u001b[0m\n\u001b[0;32m     21\u001b[0m     \u001b[1;32mdef\u001b[0m \u001b[0mpop\u001b[0m\u001b[1;33m(\u001b[0m\u001b[0mself\u001b[0m\u001b[1;33m)\u001b[0m\u001b[1;33m:\u001b[0m\u001b[1;33m\u001b[0m\u001b[0m\n\u001b[0;32m     22\u001b[0m         \u001b[1;32mif\u001b[0m \u001b[0mself\u001b[0m\u001b[1;33m.\u001b[0m\u001b[0mis_empty\u001b[0m\u001b[1;33m(\u001b[0m\u001b[1;33m)\u001b[0m\u001b[1;33m:\u001b[0m\u001b[1;33m\u001b[0m\u001b[0m\n\u001b[1;32m---> 23\u001b[1;33m             \u001b[1;32mraise\u001b[0m \u001b[0mStackUnderflow\u001b[0m\u001b[1;33m(\u001b[0m\u001b[1;34m\"in SStack.pop()\"\u001b[0m\u001b[1;33m)\u001b[0m\u001b[1;33m\u001b[0m\u001b[0m\n\u001b[0m\u001b[0;32m     24\u001b[0m         \u001b[1;32mreturn\u001b[0m \u001b[0mself\u001b[0m\u001b[1;33m.\u001b[0m\u001b[0m_elems\u001b[0m\u001b[1;33m.\u001b[0m\u001b[0mpop\u001b[0m\u001b[1;33m(\u001b[0m\u001b[1;33m)\u001b[0m\u001b[1;33m\u001b[0m\u001b[0m\n\u001b[0;32m     25\u001b[0m \u001b[1;33m\u001b[0m\u001b[0m\n",
      "\u001b[1;31mStackUnderflow\u001b[0m: in SStack.pop()"
     ]
    }
   ],
   "source": [
    "# stack 下溢出，即空栈访问\n",
    "class StackUnderflow(ValueError):\n",
    "    pass\n",
    "\n",
    "# stack 的顺序表实现，在表尾实现O(1)的元素插入、访问、删除\n",
    "class SStack():\n",
    "    def __init__(self):\n",
    "        self._elems=[]\n",
    "        \n",
    "    def is_empty(self):\n",
    "        return self._elems == []\n",
    "\n",
    "    def top(self):\n",
    "        if self.is_empty():\n",
    "            raise StackUnderflow(\"in SStack.top()\")\n",
    "        return self._elems[-1]\n",
    "\n",
    "    def push(self,elem):\n",
    "        self._elems.append(elem)\n",
    "        \n",
    "    def pop(self):\n",
    "        if self.is_empty():\n",
    "            raise StackUnderflow(\"in SStack.pop()\")\n",
    "        return self._elems.pop()\n",
    "\n",
    "s1=SStack()\n",
    "\n",
    "print(\"the serial of push stack is \",end=\"\")\n",
    "for i in range(5):\n",
    "    s1.push(2*i+1)\n",
    "    print(2*i+1,end=\" \")\n",
    "print()\n",
    "\n",
    "print(\"the top of the stack is {}\".format(s1.top()))\n",
    "\n",
    "print(\"the serial of pop stack is \",end=\"\")\n",
    "for j in range(5):\n",
    "    print(s1.pop(),end=\" \")\n",
    "print()\n",
    "\n",
    "# 此时stack空，会报错\n",
    "print(s1.pop())"
   ]
  },
  {
   "cell_type": "code",
   "execution_count": 16,
   "metadata": {},
   "outputs": [],
   "source": [
    "# stack 的链接表实现，在链表表头实现O(1)的元素插入、访问、删除\n",
    "class LNode():\n",
    "    def __init__(self,elem,next_=None):\n",
    "        self._elem=elem\n",
    "        self._next=next_\n",
    "\n",
    "class LStack():\n",
    "    def __init__(self):\n",
    "        self._top=None\n",
    "    \n",
    "    def is_empty(slef):\n",
    "        return self._top is None\n",
    "    \n",
    "    def top(self):\n",
    "        if self.is_empty():\n",
    "            raise StackUnderflow(\"In LStack.top()\")\n",
    "        return self._top._elem\n",
    "    \n",
    "    def push(self,elem):\n",
    "        self._top=LNode(elem,self._top)\n",
    "    \n",
    "    def pop(self):\n",
    "        if self.is_empty():\n",
    "            raise StackUnderflow(\"in LStack.pop()\")\n",
    "        p=self._top\n",
    "        self._top=p.next\n",
    "        return p.elem"
   ]
  },
  {
   "cell_type": "code",
   "execution_count": 17,
   "metadata": {},
   "outputs": [
    {
     "name": "stdout",
     "output_type": "stream",
     "text": [
      "the serial of push stack is 1 3 5 7 9 \n",
      "the top of the stack is 9\n",
      "the serial of pop stack is 9 7 5 3 1 \n"
     ]
    },
    {
     "ename": "StackUnderflow",
     "evalue": "in SStack.pop()",
     "output_type": "error",
     "traceback": [
      "\u001b[1;31m---------------------------------------------------------------------------\u001b[0m",
      "\u001b[1;31mStackUnderflow\u001b[0m                            Traceback (most recent call last)",
      "\u001b[1;32m<ipython-input-17-231714db452c>\u001b[0m in \u001b[0;36m<module>\u001b[1;34m()\u001b[0m\n\u001b[0;32m     15\u001b[0m \u001b[1;33m\u001b[0m\u001b[0m\n\u001b[0;32m     16\u001b[0m \u001b[1;31m# 此时stack空，会报错\u001b[0m\u001b[1;33m\u001b[0m\u001b[1;33m\u001b[0m\u001b[0m\n\u001b[1;32m---> 17\u001b[1;33m \u001b[0mprint\u001b[0m\u001b[1;33m(\u001b[0m\u001b[0ms2\u001b[0m\u001b[1;33m.\u001b[0m\u001b[0mpop\u001b[0m\u001b[1;33m(\u001b[0m\u001b[1;33m)\u001b[0m\u001b[1;33m)\u001b[0m\u001b[1;33m\u001b[0m\u001b[0m\n\u001b[0m",
      "\u001b[1;32m<ipython-input-15-f5c49495b107>\u001b[0m in \u001b[0;36mpop\u001b[1;34m(self)\u001b[0m\n\u001b[0;32m     21\u001b[0m     \u001b[1;32mdef\u001b[0m \u001b[0mpop\u001b[0m\u001b[1;33m(\u001b[0m\u001b[0mself\u001b[0m\u001b[1;33m)\u001b[0m\u001b[1;33m:\u001b[0m\u001b[1;33m\u001b[0m\u001b[0m\n\u001b[0;32m     22\u001b[0m         \u001b[1;32mif\u001b[0m \u001b[0mself\u001b[0m\u001b[1;33m.\u001b[0m\u001b[0mis_empty\u001b[0m\u001b[1;33m(\u001b[0m\u001b[1;33m)\u001b[0m\u001b[1;33m:\u001b[0m\u001b[1;33m\u001b[0m\u001b[0m\n\u001b[1;32m---> 23\u001b[1;33m             \u001b[1;32mraise\u001b[0m \u001b[0mStackUnderflow\u001b[0m\u001b[1;33m(\u001b[0m\u001b[1;34m\"in SStack.pop()\"\u001b[0m\u001b[1;33m)\u001b[0m\u001b[1;33m\u001b[0m\u001b[0m\n\u001b[0m\u001b[0;32m     24\u001b[0m         \u001b[1;32mreturn\u001b[0m \u001b[0mself\u001b[0m\u001b[1;33m.\u001b[0m\u001b[0m_elems\u001b[0m\u001b[1;33m.\u001b[0m\u001b[0mpop\u001b[0m\u001b[1;33m(\u001b[0m\u001b[1;33m)\u001b[0m\u001b[1;33m\u001b[0m\u001b[0m\n\u001b[0;32m     25\u001b[0m \u001b[1;33m\u001b[0m\u001b[0m\n",
      "\u001b[1;31mStackUnderflow\u001b[0m: in SStack.pop()"
     ]
    }
   ],
   "source": [
    "s2=SStack()\n",
    "\n",
    "print(\"the serial of push stack is \",end=\"\")\n",
    "for i in range(5):\n",
    "    s2.push(2*i+1)\n",
    "    print(2*i+1,end=\" \")\n",
    "print()\n",
    "\n",
    "print(\"the top of the stack is {}\".format(s2.top()))\n",
    "\n",
    "print(\"the serial of pop stack is \",end=\"\")\n",
    "for j in range(5):\n",
    "    print(s2.pop(),end=\" \")\n",
    "print()\n",
    "\n",
    "# 此时stack空，会报错\n",
    "print(s2.pop())"
   ]
  },
  {
   "cell_type": "markdown",
   "metadata": {},
   "source": [
    "## code 2\n",
    "原书第141页【page 141】   \n",
    "栈结构的应用1：括号匹配问题"
   ]
  },
  {
   "cell_type": "code",
   "execution_count": 18,
   "metadata": {},
   "outputs": [],
   "source": [
    "def check_parens(text):\n",
    "    \"\"\"括号匹配检查函数，其中text是被检查的正文串\"\"\"\n",
    "    parens=\"()[]{}\" # 所有的括号字符\n",
    "    open_parens=\"([{\" # 所有的左括号\n",
    "    opposite={\")\":\"(\",\"]\":\"[\",\"}\":\"{\"} # 匹配关系字典\n",
    "    \n",
    "    def parentheses(text):\n",
    "        \"\"\"括号生成器具，每次调用返回text中的下一个括号及其位置\"\"\"\n",
    "        i,text_len=0,len(text)\n",
    "        for i in range(text_len):\n",
    "            if text[i] in parens:\n",
    "                yield i,text[i]\n",
    "    # 定义保存括号的栈\n",
    "    st=SStack()\n",
    "    for index,pr in parentheses(text):\n",
    "        if pr in open_parens:\n",
    "            st.push(pr)\n",
    "        elif st.pop()!=opposite[pr]:\n",
    "            print(\"unmatching is found at {} for {}\".format(index,pr))\n",
    "            return False\n",
    "    if st.is_empty():\n",
    "        print(\"all parenthese are correctly matched.\")\n",
    "        return True\n",
    "    else:\n",
    "        print(\"number of parentheses are not correct.\")\n",
    "        return False"
   ]
  },
  {
   "cell_type": "code",
   "execution_count": 19,
   "metadata": {},
   "outputs": [
    {
     "name": "stdout",
     "output_type": "stream",
     "text": [
      "all parenthese are correctly matched.\n"
     ]
    },
    {
     "data": {
      "text/plain": [
       "True"
      ]
     },
     "execution_count": 19,
     "metadata": {},
     "output_type": "execute_result"
    }
   ],
   "source": [
    "check_parens(\"(3-5)*(6+77*[33+{95/34}])\")"
   ]
  },
  {
   "cell_type": "markdown",
   "metadata": {},
   "source": [
    "## code 3\n",
    "原书第145页【page 145】   \n",
    "栈结构的应用2：表达式的表示、变换和计算  \n",
    "- 前缀表达式：波兰表达式\n",
    "- 中缀表达式\n",
    "- 后缀表达式：逆波兰表达式"
   ]
  },
  {
   "cell_type": "code",
   "execution_count": 11,
   "metadata": {},
   "outputs": [],
   "source": [
    "# 后缀表达式的求值\n",
    "class ESStack(SStack):\n",
    "    def depth(self):\n",
    "        return len(self._elems)\n",
    "\n",
    "# 后缀表达式的计算\n",
    "def suf_exp_evaluator(exp):\n",
    "    \"\"\"exp is a list which includes all operators and all operands,like [3,\"+\",2]\"\"\"\n",
    "    operators=\"+-*/\"\n",
    "    st=ESStack()\n",
    "    \n",
    "    # 开始遍历表达式中的每个项\n",
    "    for x in exp:\n",
    "        # x is operand\n",
    "        if x not in operators:\n",
    "            st.push(float(x))\n",
    "            continue\n",
    "        # x is operator\n",
    "        if st.depth()<2:\n",
    "            # 操作数不足两个，报错\n",
    "            raise SyntaxError(\"short of operand(s)\")\n",
    "        \n",
    "        # 从栈顶取得两个操作数\n",
    "        b=st.pop()\n",
    "        a=st.pop()\n",
    "        \n",
    "        # 判断运算符类型进行计算\n",
    "        if x==\"+\":\n",
    "            c=a+b\n",
    "        elif x==\"-\":\n",
    "            c=a-b\n",
    "        elif x==\"*\":\n",
    "            c=a*b\n",
    "        elif x==\"/\":\n",
    "            c=a/b \n",
    "        else:\n",
    "            break\n",
    "        # 计算结果压入栈顶\n",
    "        st.push(c)\n",
    "    \n",
    "    if st.depth()==1:\n",
    "        return st.pop()\n",
    "    raise SyntaxError(\"Extra operand(s).\")\n",
    "    \n",
    "# 字符串表项的分割\n",
    "def suffix_exp_evaluator(line):\n",
    "    return suf_exp_evaluator(line.split())\n",
    "\n",
    "def suffix_exp_calculator():\n",
    "    while True:\n",
    "        try:\n",
    "            line=input(\"Suffix Expression:\")\n",
    "            # 结束条件\n",
    "            if line==\"end\": return\n",
    "            res=suffix_exp_evaluator(line)\n",
    "            print(res)\n",
    "        except Exception as ex:\n",
    "            print(\"Error:{},{}\".format(type(ex),ex.args))"
   ]
  },
  {
   "cell_type": "code",
   "execution_count": 12,
   "metadata": {},
   "outputs": [
    {
     "name": "stdout",
     "output_type": "stream",
     "text": [
      "Suffix Expression:3 5 - 6 17 4 * + * 3 /\n",
      "-49.333333333333336\n",
      "Suffix Expression:end\n"
     ]
    }
   ],
   "source": [
    "suffix_exp_calculator()"
   ]
  },
  {
   "cell_type": "markdown",
   "metadata": {},
   "source": [
    "## code 4\n",
    "原书第147页【page 147】   \n",
    "中缀表达式到后缀表达式的转换"
   ]
  },
  {
   "cell_type": "code",
   "execution_count": 16,
   "metadata": {},
   "outputs": [],
   "source": [
    "priority={\"(\":1,\"+\":3,\"-\":3,\"*\":5,\"/\":5}\n",
    "infix_operators=\"+-*/()\"\n",
    "\n",
    "def tokens(line):\n",
    "    \"\"\"\n",
    "    生成器函数，逐项生成line中的每一个小项，为浮点数或者运算符或者左右圆括号\n",
    "    \"\"\"\n",
    "    i,ilen=0,len(line)\n",
    "    while i<ilen:\n",
    "        while line[i].isspace():\n",
    "            i+=1\n",
    "        if i>=ilen:\n",
    "            # 预防数组越界\n",
    "            break\n",
    "        if line[i] in infix_operators:\n",
    "            yield line[i]\n",
    "            i+=1\n",
    "            continue\n",
    "        \n",
    "        # 遇到运算对象（操作数）\n",
    "        j=i+1\n",
    "        while(j<ilen and not line[j].isspace() and line[j] not in infix_operators):\n",
    "            if (line[j]=='e' or line[j]=='E') and j+1<ilen and line[j+1]=='-':\n",
    "                j+=1\n",
    "            j+=1\n",
    "        yield line[i:j]\n",
    "        i=j\n",
    "            \n",
    "def trans_infix_suffix(line):\n",
    "    st=SStack()\n",
    "    exp=[]\n",
    "    \n",
    "    for x in tokens(line):\n",
    "        if x not in infix_operators:\n",
    "            exp.append(x) # 运算对象（操作数）直接送出\n",
    "        elif st.is_empty() or x==\"(\":\n",
    "            st.push(x) #如果符号栈式空的或者扫描遇到左括号，直接压栈\n",
    "        elif x==\")\":\n",
    "            # 处理右括号分支\n",
    "            while not st.is_empty() and st.top()!=\"(\":\n",
    "                exp.append(st.pop())\n",
    "            if st.is_empty():\n",
    "                # 没有找到与之匹配的左括号则返回错误\n",
    "                raise SyntaxError(\"Missing '(',\")\n",
    "            # 正常完成括号中的运算符弹栈之后，弹出左括号扔掉\n",
    "            st.pop()\n",
    "        else:\n",
    "            #处理扫描到的其他运算符号\n",
    "            while (not st.is_empty()) and priority[st.top()]>priority[x]:\n",
    "                exp.append(st.pop())\n",
    "            st.push(x)\n",
    "    while not st.is_empty():\n",
    "        # 将符号栈中的所有符号全部弹出，送入后缀计算表达式\n",
    "        if st.top()==\"(\":\n",
    "            # 如果此时还有左括号，则是不匹配\n",
    "            raise SyntaxError(\"Extra '('.\")\n",
    "        exp.append(st.pop())\n",
    "    \n",
    "    return exp\n",
    "\n",
    "def test_trans_infix_suffix(s):\n",
    "    print(s)\n",
    "    print(trans_infix_suffix(s))\n",
    "    print(\"Value:\",suf_exp_evaluator(trans_infix_suffix(s)))"
   ]
  },
  {
   "cell_type": "code",
   "execution_count": 17,
   "metadata": {},
   "outputs": [
    {
     "name": "stdout",
     "output_type": "stream",
     "text": [
      "( 3 - 5 ) * ( 6 + 17 * 4 ) / 3\n",
      "['3', '5', '-', '6', '17', '4', '*', '+', '3', '/', '*']\n",
      "Value: -49.333333333333336\n"
     ]
    }
   ],
   "source": [
    "test_trans_infix_suffix(\"( 3 - 5 ) * ( 6 + 17 * 4 ) / 3\")"
   ]
  },
  {
   "cell_type": "code",
   "execution_count": 18,
   "metadata": {},
   "outputs": [
    {
     "data": {
      "text/plain": [
       "-49.333333333333336"
      ]
     },
     "execution_count": 18,
     "metadata": {},
     "output_type": "execute_result"
    }
   ],
   "source": [
    "(3-5)*(6+17*4)/3"
   ]
  },
  {
   "cell_type": "markdown",
   "metadata": {},
   "source": [
    "## code 5\n",
    "原书第159页【page 159】   \n",
    "队列类的实现  \n",
    "### 队列的核心设计有：\n",
    "* 空队列的构造\n",
    "* 出队（判空操作，防止溢出）\n",
    "* 入队（判满操作，防止覆盖）\n",
    "* 队列满/空状态的表示,队头队尾指针（数据不变式的构造与维护）"
   ]
  },
  {
   "cell_type": "code",
   "execution_count": 38,
   "metadata": {},
   "outputs": [],
   "source": [
    "# 队列空时无法访问异常\n",
    "class QueueUnderFlow(ValueError):\n",
    "    pass\n",
    "class SQueue():\n",
    "    def __init__(self,init_len=8):\n",
    "        # 存储区长度\n",
    "        self._len=init_len\n",
    "        # 存储区（元素存储）\n",
    "        self._elems=[0]*self._len\n",
    "        # 队首元素下标\n",
    "        self._head=0\n",
    "        # 元素个数\n",
    "        self._num=0\n",
    "    def is_empty(self):\n",
    "        return self._num==0\n",
    "    def peek(self):\n",
    "        if self.is_empty():\n",
    "            raise QueueUnderFlow\n",
    "        return self._elems[self._head]\n",
    "    def dequeue(self):\n",
    "        if self.is_empty():\n",
    "            raise QueueUnderFlow\n",
    "        # 出队操作\n",
    "        e=self._elems[self._head]\n",
    "        # 出队一个元素之后队首后移，队列元素数减一，保持数据不变式\n",
    "        self._head=(self._head+1)%self._len\n",
    "        self._num-=1\n",
    "        return 1\n",
    "    def enqueue(self,elem):\n",
    "        if self._len==self._num:\n",
    "            # 队列满时扩大存储区\n",
    "            self.__extend()\n",
    "        self._elems[(self._head+self._num)%self._len]=elem\n",
    "        self._num+=1\n",
    "    def __extend(self):\n",
    "        old_len=self._len\n",
    "        self._len*=2\n",
    "        new_elems=[0]*self._len\n",
    "        for i in range(old_len):\n",
    "            self._elems[i]=self._elems[(self._head+i)%old_len]\n",
    "        self._elems=new_elems\n",
    "        self._head=0"
   ]
  },
  {
   "cell_type": "markdown",
   "metadata": {},
   "source": [
    "## code 6\n",
    "原书第165页【page 165】   \n",
    "迷宫求解的递归算\n",
    "### 递归的思路：\n",
    "* 每个时刻总有一个当前位置，一开始当前位置是迷宫入口\n",
    "* 如果当前位置是出口，则问题解决\n",
    "* 如果当前位置无路可走，搜索失败，回退一步\n",
    "* 取一个可行的当前位置邻居用相同的方法搜索，如果从哪里可以找到通往出口的路径，那么从当前位置到出口的路径也就找到了\n",
    "### 具体的算法过程：\n",
    "* mark当前位置已经到过\n",
    "* 检查当前位置是否为出口，如果是，则成功结束，如果不是，则继续下一步\n",
    "* 逐个检查当前位置四个邻居是否可以到达出口\n",
    "* 如果对四个邻居的检查都没有找到出口，则报告失败"
   ]
  },
  {
   "cell_type": "code",
   "execution_count": 41,
   "metadata": {},
   "outputs": [],
   "source": [
    "## 辅助数据与函数\n",
    "\n",
    "#首先是一个12*14的迷宫矩阵\n",
    "import numpy as np\n",
    "maze=[[1]*14,\n",
    "     [1,0,0,0,1,1,0,0,0,1,0,0,0,1],\n",
    "     [1,0,1,0,0,0,0,1,0,1,0,1,0,1],\n",
    "     [1,0,1,0,1,1,1,1,0,1,0,1,0,1],\n",
    "     [1,0,1,0,0,0,0,0,0,1,1,1,0,1],\n",
    "     [1,0,1,1,1,1,1,1,1,1,0,0,0,1],\n",
    "     [1,0,1,0,0,0,0,0,0,0,0,1,0,1],\n",
    "     [1,0,0,0,1,1,1,0,1,0,1,1,0,1],\n",
    "     [1,0,1,0,1,0,1,0,1,0,1,0,0,1],\n",
    "     [1,0,1,0,1,0,1,0,1,0,1,1,0,1],\n",
    "     [1,0,1,0,0,0,1,0,0,1,0,0,0,1],\n",
    "     [1]*14]\n",
    "startPoint=(1,1)\n",
    "endPoint=(10,12)\n",
    "dirs=[(0,1),(1,0),(0,-1),(-1,0)] # 上下左右四个方向\n",
    "\n",
    "def mark(maze,pos):\n",
    "    maze[pos[0],pos[1]]=2 \n",
    "    # 迷宫矩阵里0表示可以通行，1表示无法通行，2表示已经探索过了\n",
    "    # pos=(i,j)是一个有序数对，表述迷宫矩阵的下标\n",
    "def passable(maze,pos):\n",
    "    return maze[pos[0],pos[1]]==0"
   ]
  },
  {
   "cell_type": "code",
   "execution_count": 27,
   "metadata": {},
   "outputs": [],
   "source": [
    "def find_path(maze,pos,end):\n",
    "    # 标记当前位置已经搜索过\n",
    "    mark(maze,pos)\n",
    "    if pos==end:\n",
    "        print(pos, end=\" \")\n",
    "        maze[pos[0],pos[1]]=10\n",
    "        return True\n",
    "        # 当前位置是出口，直接输出逐个点并结束程序\n",
    "    # 否则遍历当前位置的四个方向上的邻居\n",
    "    for i in range(4):\n",
    "        nextp=pos[0]+dirs[i][0],pos[1]+dirs[i][1]\n",
    "        if passable(maze,nextp):\n",
    "            # 值搜索可以通行的相邻位置\n",
    "            if find_path(maze,nextp,end):\n",
    "                print(pos, end=\" \")\n",
    "                maze[pos[0],pos[1]]=10\n",
    "                # 从pos可达出口，则输出逐个点\n",
    "                return True\n",
    "    # 遍历四个邻居之后仍然没有找打出口输出问题无解\n",
    "    print(\"No solution...\")\n",
    "    return False"
   ]
  },
  {
   "cell_type": "code",
   "execution_count": 28,
   "metadata": {},
   "outputs": [
    {
     "name": "stdout",
     "output_type": "stream",
     "text": [
      "No solution...\n",
      "No solution...\n",
      "No solution...\n",
      "No solution...\n",
      "No solution...\n",
      "No solution...\n",
      "No solution...\n",
      "No solution...\n",
      "No solution...\n",
      "No solution...\n",
      "No solution...\n",
      "No solution...\n",
      "No solution...\n",
      "No solution...\n",
      "No solution...\n",
      "No solution...\n",
      "No solution...\n",
      "No solution...\n",
      "No solution...\n",
      "No solution...\n",
      "No solution...\n",
      "No solution...\n",
      "No solution...\n",
      "No solution...\n",
      "No solution...\n",
      "(10, 12) (9, 12) (8, 12) (7, 12) (6, 12) (5, 12) (5, 11) (5, 10) (6, 10) (6, 9) (6, 8) (6, 7) (6, 6) (6, 5) (6, 4) (6, 3) (7, 3) (7, 2) (7, 1) (6, 1) (5, 1) (4, 1) (3, 1) (2, 1) (1, 1) "
     ]
    },
    {
     "data": {
      "text/plain": [
       "True"
      ]
     },
     "execution_count": 28,
     "metadata": {},
     "output_type": "execute_result"
    }
   ],
   "source": [
    "maze_1=np.copy(maze)\n",
    "find_path(maze_1,startPoint,endPoint)"
   ]
  },
  {
   "cell_type": "code",
   "execution_count": 29,
   "metadata": {},
   "outputs": [
    {
     "data": {
      "text/plain": [
       "array([[ 1,  1,  1,  1,  1,  1,  1,  1,  1,  1,  1,  1,  1,  1],\n",
       "       [ 1, 10,  2,  2,  1,  1,  2,  2,  2,  1,  0,  0,  0,  1],\n",
       "       [ 1, 10,  1,  2,  2,  2,  2,  1,  2,  1,  0,  1,  0,  1],\n",
       "       [ 1, 10,  1,  2,  1,  1,  1,  1,  2,  1,  0,  1,  0,  1],\n",
       "       [ 1, 10,  1,  2,  2,  2,  2,  2,  2,  1,  1,  1,  0,  1],\n",
       "       [ 1, 10,  1,  1,  1,  1,  1,  1,  1,  1, 10, 10, 10,  1],\n",
       "       [ 1, 10,  1, 10, 10, 10, 10, 10, 10, 10, 10,  1, 10,  1],\n",
       "       [ 1, 10, 10, 10,  1,  1,  1,  0,  1,  0,  1,  1, 10,  1],\n",
       "       [ 1,  0,  1,  2,  1,  2,  1,  0,  1,  0,  1,  0, 10,  1],\n",
       "       [ 1,  0,  1,  2,  1,  2,  1,  0,  1,  0,  1,  1, 10,  1],\n",
       "       [ 1,  0,  1,  2,  2,  2,  1,  0,  0,  1,  0,  0, 10,  1],\n",
       "       [ 1,  1,  1,  1,  1,  1,  1,  1,  1,  1,  1,  1,  1,  1]])"
      ]
     },
     "execution_count": 29,
     "metadata": {},
     "output_type": "execute_result"
    }
   ],
   "source": [
    "maze_1"
   ]
  },
  {
   "cell_type": "markdown",
   "metadata": {},
   "source": [
    "## code 8\n",
    "原书第167页【page 167】   \n",
    "栈和回溯法求解迷宫问题\n",
    "### 回溯法的主要流程\n",
    "* 首先把出发点压入栈中\n",
    "* 在栈不空的情况下反复做下面的动作（栈空是以失败告终）\n",
    "    - 弹出一项以前保存的信息作为当前点\n",
    "    - 检查从这里出发前进的可能性(找到下一个可能的探查点)\n",
    "    - 如果可以向前：存在下一个可行的位置\n",
    "        - 把从当前点出发的其它可能入栈\n",
    "        - 把下一个探查点也入栈"
   ]
  },
  {
   "cell_type": "code",
   "execution_count": 44,
   "metadata": {},
   "outputs": [],
   "source": [
    "def print_path(st,maze):\n",
    "    while not st.is_empty():\n",
    "        pos,nxt=st.pop()\n",
    "        maze[pos[0]][pos[1]]=10\n",
    "        print(pos,end=\" \")\n",
    "    print()\n",
    "    print(maze)\n",
    "def maze_solver(maze,start,end):\n",
    "    if start==end:\n",
    "        print(start)\n",
    "        return\n",
    "    st= SStack()\n",
    "    mark(maze,start)\n",
    "    # 0,1,2,3表示四个不同的方向，作为dirs的索引体现\n",
    "    st.push((start,0)) #入口和方向0入栈\n",
    "    while not st.is_empty():\n",
    "        # 最外层循环表示走不通是回退，到栈顶最后一个还没有探查的方向\n",
    "        pos,nxt=st.pop()\n",
    "        for i in range(nxt,4):\n",
    "            nextp=(pos[0]+dirs[i][0],pos[1]+dirs[i][1])\n",
    "            if nextp==end:\n",
    "                st.push((pos,nxt))\n",
    "                st.push((end,0))\n",
    "                print_path(st,maze)\n",
    "            # 遇到未搜索的新位置\n",
    "            if passable(maze,nextp):\n",
    "                # 原位置和下一方向入栈\n",
    "                st.push((pos,i+1))\n",
    "                mark(maze,nextp)\n",
    "                # 新位置入栈\n",
    "                st.push((nextp,0))\n",
    "                # 退出内层循环\n",
    "                break\n",
    "    print(\"No solution...\")"
   ]
  },
  {
   "cell_type": "code",
   "execution_count": 45,
   "metadata": {},
   "outputs": [
    {
     "name": "stdout",
     "output_type": "stream",
     "text": [
      "(10, 12) (9, 12) (8, 12) (7, 12) (6, 12) (5, 12) (5, 11) (5, 10) (6, 10) (6, 9) (6, 8) (6, 7) (6, 6) (6, 5) (6, 4) (6, 3) (7, 3) (7, 2) (7, 1) (6, 1) (5, 1) (4, 1) (3, 1) (2, 1) (1, 1) \n",
      "[[ 1  1  1  1  1  1  1  1  1  1  1  1  1  1]\n",
      " [ 1 10  2  2  1  1  2  2  2  1  0  0  0  1]\n",
      " [ 1 10  1  2  2  2  2  1  2  1  0  1  0  1]\n",
      " [ 1 10  1  2  1  1  1  1  2  1  0  1  0  1]\n",
      " [ 1 10  1  2  2  2  2  2  2  1  1  1  0  1]\n",
      " [ 1 10  1  1  1  1  1  1  1  1 10 10 10  1]\n",
      " [ 1 10  1 10 10 10 10 10 10 10 10  1 10  1]\n",
      " [ 1 10 10 10  1  1  1  0  1  0  1  1 10  1]\n",
      " [ 1  0  1  2  1  2  1  0  1  0  1  0 10  1]\n",
      " [ 1  0  1  2  1  2  1  0  1  0  1  1 10  1]\n",
      " [ 1  0  1  2  2  2  1  0  0  1  0  0 10  1]\n",
      " [ 1  1  1  1  1  1  1  1  1  1  1  1  1  1]]\n",
      "No solution...\n"
     ]
    }
   ],
   "source": [
    "maze_2=np.copy(maze)\n",
    "maze_solver(maze_2,startPoint,endPoint)"
   ]
  },
  {
   "cell_type": "markdown",
   "metadata": {},
   "source": [
    "## code 9\n",
    "原书第169页【page 169】   \n",
    "基于队列的迷宫求解算法"
   ]
  },
  {
   "cell_type": "code",
   "execution_count": 48,
   "metadata": {},
   "outputs": [],
   "source": [
    "def maze_solver_queue(maze,start,end):\n",
    "    if start==end:\n",
    "        print(\"Path finds.\")\n",
    "        return True\n",
    "    qu=SQueue()\n",
    "    mark(maze,start)\n",
    "    qu.enqueue(start)\n",
    "    while not qu.is_empty():\n",
    "        pos=qu.dequeue()\n",
    "        print(pos)\n",
    "        for i in range(4):\n",
    "            nextp=(pos[0]+dirs[i][0],pos[1]+dirs[i][1])\n",
    "            if passable(maze,nextp):\n",
    "                if nextp==end:\n",
    "                    print(\"Path find.\")\n",
    "                    return True\n",
    "                mark(maze,nextp)\n",
    "                qu.enqueue(nextp)\n",
    "    print(\"No solution...\")"
   ]
  }
 ],
 "metadata": {
  "kernelspec": {
   "display_name": "Python 3",
   "language": "python",
   "name": "python3"
  },
  "language_info": {
   "codemirror_mode": {
    "name": "ipython",
    "version": 3
   },
   "file_extension": ".py",
   "mimetype": "text/x-python",
   "name": "python",
   "nbconvert_exporter": "python",
   "pygments_lexer": "ipython3",
   "version": "3.6.5"
  }
 },
 "nbformat": 4,
 "nbformat_minor": 2
}
