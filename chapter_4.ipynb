{
 "cells": [
  {
   "cell_type": "markdown",
   "metadata": {},
   "source": [
    " * @Author: shifaqiang(石发强)--[14061115@buaa.edu.cn] \n",
    " * @Date: 2018-09-13 21:37:49\n",
    " * @Last Modified by: shifaqiang \n",
    " * @Last Modified time: 2018-09-13 21:37:49\n",
    " * @Desc: Chapter Four"
   ]
  },
  {
   "cell_type": "markdown",
   "metadata": {},
   "source": [
    "# chapter 4(字符串)"
   ]
  },
  {
   "cell_type": "markdown",
   "metadata": {},
   "source": [
    "## code 1\n",
    "原书第114页【page 114】   \n",
    "朴素的字符串匹配算法，$O(n^2)$时间复杂度"
   ]
  },
  {
   "cell_type": "code",
   "execution_count": 10,
   "metadata": {},
   "outputs": [],
   "source": [
    "s= \"abacaabacabacabaabb\" # 目标串\n",
    "p=\"abacab\" # 模式串\n",
    "\n",
    "def naive_matching(s,p):\n",
    "    i,j=0,0\n",
    "    while i<len(s) and j<len(p):\n",
    "        if s[i]==p[j]:\n",
    "            i,j=i+1,j+1\n",
    "        else:\n",
    "            i,j=i-j+1,0\n",
    "            \"\"\"\n",
    "            当前位置不匹配时\n",
    "                1.模式串跑回退到原点重现开始比较，j=0\n",
    "            \"\"\"\n",
    "    if j==len(p):\n",
    "        return i-j # 返回匹配点下标\n",
    "    else:\n",
    "        return -1 # 不匹配"
   ]
  },
  {
   "cell_type": "code",
   "execution_count": 11,
   "metadata": {},
   "outputs": [
    {
     "data": {
      "text/plain": [
       "5"
      ]
     },
     "execution_count": 11,
     "metadata": {},
     "output_type": "execute_result"
    }
   ],
   "source": [
    "naive_matching(s,p)"
   ]
  },
  {
   "cell_type": "markdown",
   "metadata": {},
   "source": [
    "## code 2\n",
    "原书第117页【page 117】   \n",
    "无回溯字符串匹配算法，$O(n*m)$时间复杂度，其中$m \\ll  n$，则成为$O(n)$复杂度算法"
   ]
  },
  {
   "cell_type": "code",
   "execution_count": 38,
   "metadata": {},
   "outputs": [],
   "source": [
    "def kmp_matching(s,p,pnext):\n",
    "    i,j=0\n",
    "    while i<len(s) and j<len(p):\n",
    "        if j==-1:\n",
    "            i,j=i+1,j+1 # 主串比较下一字符，模式串回退到0下标，分支一\n",
    "        elif s[i]==p[j]:\n",
    "            i,j=1+1,j+1 # 当前字符相同，比较下一字符，分支二\n",
    "        else:\n",
    "            # 模式串p回溯，主串s不动\n",
    "            j=pnext[j]\n",
    "    if j==len(p):\n",
    "        return j-i\n",
    "    else:\n",
    "        return -1        "
   ]
  },
  {
   "cell_type": "code",
   "execution_count": 39,
   "metadata": {},
   "outputs": [],
   "source": [
    "def kmp_matching(s,p,pnext):\n",
    "    i,j=0,0\n",
    "    while i<len(s) and j<len(p):\n",
    "        #合并分支一和分支二\n",
    "        if j==-1 or s[i]==p[j]:\n",
    "            i,j=i+1,j+1\n",
    "        else:\n",
    "            # 模式串p回溯，主串s不动\n",
    "            j=pnext[j]\n",
    "    if j==len(p):\n",
    "        return i-j\n",
    "    else:\n",
    "        return -1"
   ]
  },
  {
   "cell_type": "code",
   "execution_count": 44,
   "metadata": {},
   "outputs": [],
   "source": [
    "def get_next(p):\n",
    "    j,k,m=0,-1,len(p) # 当前k与当前j匹配\n",
    "    pnext=[-1]*m\n",
    "    while j<(m-1):\n",
    "        if k==-1 or p[k]==p[j]:\n",
    "            k,j=k+1,j+1\n",
    "            pnext[j]=k\n",
    "        else:\n",
    "            k=pnext[k]\n",
    "    return pnext\n",
    "# get_next(\"abbcabcaabbcaa\")"
   ]
  },
  {
   "cell_type": "code",
   "execution_count": 45,
   "metadata": {},
   "outputs": [
    {
     "data": {
      "text/plain": [
       "5"
      ]
     },
     "execution_count": 45,
     "metadata": {},
     "output_type": "execute_result"
    }
   ],
   "source": [
    "s= \"abacaabacabacabaabb\" # 目标串\n",
    "p=\"abacab\" # 模式串\n",
    "kmp_matching(s,p,get_next(p))"
   ]
  },
  {
   "cell_type": "code",
   "execution_count": 46,
   "metadata": {},
   "outputs": [],
   "source": [
    "def get_next_2(p):\n",
    "    \"\"\"生成正对模式串p中位置i不匹配时的下一位置检查表，用于KMP算法\"\"\"\n",
    "    j,k,m=0,-1,len(p)\n",
    "    pnext=[-1]*m\n",
    "    # p的第一位即不匹配的时候则需移动主串i，这里标记next为-1\n",
    "    while j<(m-1):\n",
    "        if k==-1 or p[j]==p[k]:\n",
    "            j,k=j+1,k+1\n",
    "            if p[j]==p[k]:\n",
    "                pnext[j]=pnext[k]\n",
    "            else:\n",
    "                pnext[j]=k\n",
    "        else:\n",
    "            k=pnext[k]\n",
    "    return pnext\n",
    "# get_next_2(\"abbcabcaabbcaa\")"
   ]
  },
  {
   "cell_type": "code",
   "execution_count": 47,
   "metadata": {},
   "outputs": [
    {
     "data": {
      "text/plain": [
       "5"
      ]
     },
     "execution_count": 47,
     "metadata": {},
     "output_type": "execute_result"
    }
   ],
   "source": [
    "s= \"abacaabacabacabaabb\" # 目标串\n",
    "p=\"abacab\" # 模式串\n",
    "kmp_matching(s,p,get_next_2(p))"
   ]
  }
 ],
 "metadata": {
  "kernelspec": {
   "display_name": "Python 3",
   "language": "python",
   "name": "python3"
  },
  "language_info": {
   "codemirror_mode": {
    "name": "ipython",
    "version": 3
   },
   "file_extension": ".py",
   "mimetype": "text/x-python",
   "name": "python",
   "nbconvert_exporter": "python",
   "pygments_lexer": "ipython3",
   "version": "3.6.5"
  }
 },
 "nbformat": 4,
 "nbformat_minor": 2
}
