{
 "cells": [
  {
   "cell_type": "markdown",
   "metadata": {},
   "source": [
    " * @Author: shifaqiang(石发强)--[14061115@buaa.edu.cn] \n",
    " * @Date: 2018-11-14 09:14:53 \n",
    " * @Last Modified by:   shifaqiang \n",
    " * @Last Modified time: 2018-11-14 09:14:53\n",
    " * @Desc: Chapter Nine"
   ]
  },
  {
   "cell_type": "markdown",
   "metadata": {},
   "source": [
    "# chapter 9(排序)"
   ]
  },
  {
   "cell_type": "markdown",
   "metadata": {},
   "source": [
    "## code 1\n",
    "原书第323页【page 323】\n",
    "插入排序算法"
   ]
  },
  {
   "cell_type": "code",
   "execution_count": 22,
   "metadata": {},
   "outputs": [],
   "source": [
    "def insert_sort(lst):\n",
    "    # 只有一个元素的列表lst[0:1]默认是有序的\n",
    "    for i in range(1,len(lst)):\n",
    "        x=lst[i]\n",
    "        j=i\n",
    "        while j>0 and lst[j-1]>x:\n",
    "            lst[j]=lst[j-1] # 反序逐个后移元素，确定插入位置\n",
    "            j-=1\n",
    "        # 在合适的位置lst[j]插入元素x\n",
    "        lst[j]=x"
   ]
  },
  {
   "cell_type": "code",
   "execution_count": 25,
   "metadata": {},
   "outputs": [
    {
     "name": "stdout",
     "output_type": "stream",
     "text": [
      "Before: [13 72 27 42 47 33 18 45 59 82 57 66  2 95 83]\n",
      "After : [ 2 13 18 27 33 42 45 47 57 59 66 72 82 83 95]\n"
     ]
    }
   ],
   "source": [
    "import numpy as np\n",
    "array=np.random.randint(0,100,size=15)\n",
    "print(\"Before:\",array)\n",
    "insert_sort(array)\n",
    "print(\"After :\",array)"
   ]
  },
  {
   "cell_type": "markdown",
   "metadata": {},
   "source": [
    "## code 2\n",
    "原书第325页【page 325】  \n",
    "直接选择排序算法"
   ]
  },
  {
   "cell_type": "code",
   "execution_count": 28,
   "metadata": {},
   "outputs": [],
   "source": [
    "def select_sort(lst):\n",
    "    for i in range(len(lst)-1):\n",
    "        k=i # k是已知最小元素的位置\n",
    "        for j in range(i,len(lst)):\n",
    "            if lst[j]<lst[k]:\n",
    "                k=j\n",
    "        if i!=k:\n",
    "            lst[i],lst[k]=lst[k],lst[i]"
   ]
  },
  {
   "cell_type": "code",
   "execution_count": 29,
   "metadata": {},
   "outputs": [
    {
     "name": "stdout",
     "output_type": "stream",
     "text": [
      "Before: [50 95 90 97 13 16  0 73 51 14 78 56 12 52 30]\n",
      "After : [ 0 12 13 14 16 30 50 51 52 56 73 78 90 95 97]\n"
     ]
    }
   ],
   "source": [
    "import numpy as np\n",
    "array=np.random.randint(0,100,size=15)\n",
    "print(\"Before:\",array)\n",
    "select_sort(array)\n",
    "print(\"After :\",array)"
   ]
  },
  {
   "cell_type": "markdown",
   "metadata": {},
   "source": [
    "## code 3\n",
    "原书第328页【page 328】\n",
    "交换排序算法"
   ]
  },
  {
   "cell_type": "code",
   "execution_count": 33,
   "metadata": {},
   "outputs": [],
   "source": [
    "def bubble_sort(lst):\n",
    "    for i in range(len(lst)):\n",
    "        for j in range(1,len(lst)-i):\n",
    "            if lst[j-1]>lst[j]:\n",
    "                lst[j-1],lst[j]=lst[j],lst[j-1]"
   ]
  },
  {
   "cell_type": "code",
   "execution_count": 35,
   "metadata": {},
   "outputs": [
    {
     "name": "stdout",
     "output_type": "stream",
     "text": [
      "Before: [61 79 86 46 34 47 74 12 57 30  6 77  6  3 19]\n",
      "After : [ 3  6  6 12 19 30 34 46 47 57 61 74 77 79 86]\n"
     ]
    }
   ],
   "source": [
    "import numpy as np\n",
    "array=np.random.randint(0,100,size=15)\n",
    "print(\"Before:\",array)\n",
    "bubble_sort(array)\n",
    "print(\"After :\",array)"
   ]
  },
  {
   "cell_type": "code",
   "execution_count": 36,
   "metadata": {},
   "outputs": [],
   "source": [
    "# 改进的冒泡排序\n",
    "def bubble_sort_2(lst):\n",
    "    for i in range(len(lst)):\n",
    "        found=False\n",
    "        for j in range(1,len(lst)-i):\n",
    "            if lst[j-1]>lst[j]:\n",
    "                lst[j-1],lst[j]=lst[j],lst[j-1]\n",
    "                found=True\n",
    "        if not found:\n",
    "            break"
   ]
  },
  {
   "cell_type": "code",
   "execution_count": 38,
   "metadata": {},
   "outputs": [
    {
     "name": "stdout",
     "output_type": "stream",
     "text": [
      "Before: [68 26 47 21 23 52 81 90 55 33 11 35 69  7 13]\n",
      "After : [ 7 11 13 21 23 26 33 35 47 52 55 68 69 81 90]\n"
     ]
    }
   ],
   "source": [
    "import numpy as np\n",
    "array=np.random.randint(0,100,size=15)\n",
    "print(\"Before:\",array)\n",
    "bubble_sort_2(array)\n",
    "print(\"After :\",array)"
   ]
  },
  {
   "cell_type": "markdown",
   "metadata": {},
   "source": [
    "## code 3\n",
    "原书第330页【page 330】  \n",
    "快速排序"
   ]
  },
  {
   "cell_type": "code",
   "execution_count": 42,
   "metadata": {},
   "outputs": [],
   "source": [
    "def quick_sort(lst):\n",
    "    qsort_rec(lst,0,len(lst)-1)\n",
    "def qsort_rec(lst,low,high):\n",
    "    if low<high:\n",
    "        i,j=low,high\n",
    "        key=lst[i]\n",
    "        while i<j:\n",
    "            while i<j and lst[j]>=key:\n",
    "                j-=1\n",
    "            lst[i]=lst[j]\n",
    "            while i<j and lst[i]<=key:\n",
    "                i+=1\n",
    "            lst[j]=lst[i]\n",
    "        lst[i]=key\n",
    "        qsort_rec(lst,low,i-1)\n",
    "        qsort_rec(lst,i+1,high)"
   ]
  },
  {
   "cell_type": "code",
   "execution_count": 46,
   "metadata": {},
   "outputs": [
    {
     "name": "stdout",
     "output_type": "stream",
     "text": [
      "Before: [ 1 37 85 11 89  0 97 85 15 91 17 62 78 10 94]\n",
      "After : [ 0  1 10 11 15 17 37 62 78 85 85 89 91 94 97]\n"
     ]
    }
   ],
   "source": [
    "import numpy as np\n",
    "array=np.random.randint(0,100,size=15)\n",
    "print(\"Before:\",array)\n",
    "quick_sort(array)\n",
    "print(\"After :\",array)"
   ]
  },
  {
   "cell_type": "code",
   "execution_count": 53,
   "metadata": {},
   "outputs": [],
   "source": [
    "## 快速排序的另一种实现方式\n",
    "def quick_sort_2(lst):\n",
    "    def qsort(lst,low,high):\n",
    "        if low<high:\n",
    "            i=low\n",
    "            key=lst[i]\n",
    "            for j in range(low+1,high+1):\n",
    "                if lst[j]<key:\n",
    "                    i+=1\n",
    "                    lst[i],lst[j]=lst[j],lst[i]\n",
    "            # 做完一轮排序以后，第一个基准元素key放到合适的位置，已经划分的两段中间\n",
    "            lst[low],lst[i]=lst[i],lst[low]\n",
    "            # 递归排序其余两段\n",
    "            qsort(lst,0,i-1)\n",
    "            qsort(lst,i+1,high)\n",
    "    qsort(lst,0,len(lst)-1)"
   ]
  },
  {
   "cell_type": "code",
   "execution_count": 58,
   "metadata": {},
   "outputs": [
    {
     "name": "stdout",
     "output_type": "stream",
     "text": [
      "Before: [24 63 83 85 62 60  3  5 81  2 69 43  9 36 87]\n",
      "After : [ 2  3  5  9 24 36 43 60 62 63 69 81 83 85 87]\n"
     ]
    }
   ],
   "source": [
    "import numpy as np\n",
    "array=np.random.randint(0,100,size=15)\n",
    "print(\"Before:\",array)\n",
    "quick_sort_2(array)\n",
    "print(\"After :\",array)"
   ]
  },
  {
   "cell_type": "markdown",
   "metadata": {},
   "source": [
    "## code 3\n",
    "原书第334页【page 334】  \n",
    "归并排序"
   ]
  },
  {
   "cell_type": "code",
   "execution_count": 93,
   "metadata": {},
   "outputs": [],
   "source": [
    "def merge(lfrom,lto,low,mid,high):\n",
    "    \"\"\"\n",
    "    最底层函数，合并两个有序的数组，这两个数组可能不同长度\n",
    "    lfrom[low:mid]和lfrom[mid:high]是两个有序分段，合并他们\n",
    "    \"\"\"\n",
    "    i,j,k=low,mid,low\n",
    "    # 反复迭代两个分段中较小的数到目的列表lto中\n",
    "    while i<mid and j<high:\n",
    "        if lfrom[i]<lfrom[j]:\n",
    "            lto[k]=lfrom[i]\n",
    "            i+=1\n",
    "        else:\n",
    "            lto[k]=lfrom[j]\n",
    "            j+=1\n",
    "        k+=1\n",
    "    # 复制第一段中剩余的记录\n",
    "    while i<mid:\n",
    "        lto[k]=lfrom[i]\n",
    "        i+=1\n",
    "        k+=1\n",
    "    while j<high:\n",
    "        lto[k]=lfrom[j]\n",
    "        j+=1\n",
    "        k+=1\n",
    "def merge_pass(lfrom,lto,llen,slen):\n",
    "    \"\"\"\n",
    "    中间层，一遍实现对一对对分段的归并,其中llen表示表长度，slen表示分段长度\n",
    "    \"\"\"\n",
    "    i=0\n",
    "    while i+2*slen<llen:\n",
    "        merge(lfrom,lto,i,i+slen,i+2*slen)\n",
    "        i+=2*slen\n",
    "    if i+slen<llen:\n",
    "        # 最后剩下两段，最后一段长度小于slen的情况\n",
    "        merge(lfrom,lto,i,i+slen,llen)\n",
    "    else:\n",
    "        # 最后只剩下一段，直接复制到lto表\n",
    "        for j in range(i,llen):\n",
    "            lto[j]=lfrom[j]\n",
    "def merge_sort(lst):\n",
    "    \"\"\"\n",
    "    最上层函数，负责控制归并流程，提供第二张辅助表\n",
    "    \"\"\"\n",
    "    slen,llen=1,len(lst)\n",
    "    tempLst=[None]*llen\n",
    "    while slen<llen:\n",
    "        merge_pass(lst,tempLst,llen,slen)\n",
    "        slen*=2\n",
    "        merge_pass(tempLst,lst,llen,slen)\n",
    "        slen*=2"
   ]
  },
  {
   "cell_type": "code",
   "execution_count": 94,
   "metadata": {},
   "outputs": [
    {
     "name": "stdout",
     "output_type": "stream",
     "text": [
      "Before: [36 26 99 45 27 69 36 68  7 21 27 23 57 37 73]\n",
      "After : [ 7 21 23 26 27 27 36 36 37 45 57 68 69 73 99]\n"
     ]
    }
   ],
   "source": [
    "import numpy as np\n",
    "array=np.random.randint(0,100,size=15)\n",
    "print(\"Before:\",array)\n",
    "merge_sort(array)\n",
    "print(\"After :\",array)"
   ]
  },
  {
   "cell_type": "markdown",
   "metadata": {},
   "source": [
    "## code 3\n",
    "原书第337页【page 337】  \n",
    "基数排序"
   ]
  },
  {
   "cell_type": "code",
   "execution_count": 109,
   "metadata": {},
   "outputs": [],
   "source": [
    "def radix_sort(lst,d):\n",
    "    \"\"\"\n",
    "    基数排序，多轮分配与收集实现排序\n",
    "    \"\"\"\n",
    "    rlists=[[] for i in range(10)]  # 空桶\n",
    "    llen=len(lst)\n",
    "    for m in range(-1,-d-1,-1):\n",
    "        # LSD ,最低位优先排序\n",
    "        for j in range(llen):\n",
    "            rlists[lst[j][m]].append(lst[j]) # 按照关键码分配到桶\n",
    "        # 按序保持稳定性收集到旧的列表中\n",
    "        j=0\n",
    "        for i in range(10):\n",
    "            tmp=rlists[i]\n",
    "            for k in range(len(tmp)):\n",
    "                lst[j]=tmp[k]\n",
    "                j+=1\n",
    "            rlists[i].clear()"
   ]
  },
  {
   "cell_type": "code",
   "execution_count": 118,
   "metadata": {},
   "outputs": [
    {
     "name": "stdout",
     "output_type": "stream",
     "text": [
      "[(0, 0, 0), (0, 0, 1), (0, 0, 2), (0, 1, 0), (0, 1, 1), (0, 1, 2), (0, 2, 0), (0, 2, 1), (0, 2, 2), (1, 0, 0), (1, 0, 1), (1, 0, 2), (1, 1, 0), (1, 1, 1), (1, 1, 2), (1, 2, 0), (1, 2, 1), (1, 2, 2), (2, 0, 0), (2, 0, 1), (2, 0, 2), (2, 1, 0), (2, 1, 1), (2, 1, 2), (2, 2, 0), (2, 2, 1), (2, 2, 2)]\n",
      "[(2, 0, 1), (2, 1, 2), (0, 2, 0), (2, 1, 0), (0, 0, 0), (1, 0, 2), (2, 2, 1), (1, 1, 1), (1, 1, 0), (2, 1, 1), (0, 0, 2), (1, 0, 0), (0, 2, 1), (1, 2, 0), (2, 0, 0), (0, 2, 2), (1, 1, 2), (1, 0, 1), (0, 0, 1), (0, 1, 0), (0, 1, 2), (0, 1, 1), (2, 2, 2), (1, 2, 2), (1, 2, 1), (2, 0, 2), (2, 2, 0)]\n"
     ]
    }
   ],
   "source": [
    "lst=[]\n",
    "n=3\n",
    "for i in range(n):\n",
    "    for j in range(n):\n",
    "        for k in range(n):\n",
    "            lst.append((i,j,k))\n",
    "print(lst)\n",
    "np.random.shuffle(lst)\n",
    "print(lst)"
   ]
  },
  {
   "cell_type": "code",
   "execution_count": 119,
   "metadata": {},
   "outputs": [
    {
     "name": "stdout",
     "output_type": "stream",
     "text": [
      "[(0, 0, 0), (0, 0, 1), (0, 0, 2), (0, 1, 0), (0, 1, 1), (0, 1, 2), (0, 2, 0), (0, 2, 1), (0, 2, 2), (1, 0, 0), (1, 0, 1), (1, 0, 2), (1, 1, 0), (1, 1, 1), (1, 1, 2), (1, 2, 0), (1, 2, 1), (1, 2, 2), (2, 0, 0), (2, 0, 1), (2, 0, 2), (2, 1, 0), (2, 1, 1), (2, 1, 2), (2, 2, 0), (2, 2, 1), (2, 2, 2)]\n"
     ]
    }
   ],
   "source": [
    "radix_sort(lst,n)\n",
    "print(lst)"
   ]
  }
 ],
 "metadata": {
  "kernelspec": {
   "display_name": "Python 3",
   "language": "python",
   "name": "python3"
  },
  "language_info": {
   "codemirror_mode": {
    "name": "ipython",
    "version": 3
   },
   "file_extension": ".py",
   "mimetype": "text/x-python",
   "name": "python",
   "nbconvert_exporter": "python",
   "pygments_lexer": "ipython3",
   "version": "3.6.5"
  }
 },
 "nbformat": 4,
 "nbformat_minor": 2
}
