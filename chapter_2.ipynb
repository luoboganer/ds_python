{
 "cells": [
  {
   "cell_type": "markdown",
   "metadata": {},
   "source": [
    " * @Author: shifaqiang(石发强)--[14061115@buaa.edu.cn] \n",
    " * @Date: 2018-09-09 14:47:09 \n",
    " * @Last Modified by:   shifaqiang \n",
    " * @Last Modified time: 2018-09-09 14:47:09\n",
    " * @Desc: Chapter Two"
   ]
  },
  {
   "cell_type": "markdown",
   "metadata": {},
   "source": [
    "# chapter 2(抽象数据类型和Python类)"
   ]
  },
  {
   "cell_type": "markdown",
   "metadata": {},
   "source": [
    "## code 1\n",
    "原书第39页【page 39】\n",
    "有理数类的定义"
   ]
  },
  {
   "cell_type": "code",
   "execution_count": 1,
   "metadata": {},
   "outputs": [],
   "source": [
    "# 类定义关键字\n",
    "class Rational_0:\n",
    "    # 对象初始化方法（构造方法）\n",
    "    def __init__(self,num,den=1):\n",
    "        self.num=num\n",
    "        self.den=den\n",
    "    \n",
    "    # 对象操作方法（修改方法）\n",
    "    def plus(self,anotehr):\n",
    "        num=self.num*anotehr.den+self.den*anotehr.num\n",
    "        den=self.den*anotehr.den\n",
    "        return Rational_0(num,den)\n",
    "    # 对象输出方法（解析方法）\n",
    "    def print(self):\n",
    "        print(\"{}/{}\".format(self.num,self.den))"
   ]
  },
  {
   "cell_type": "code",
   "execution_count": 2,
   "metadata": {},
   "outputs": [
    {
     "name": "stdout",
     "output_type": "stream",
     "text": [
      "80/75\n"
     ]
    }
   ],
   "source": [
    "# 被定义的类 Rational_0的使用市里\n",
    "r1=Rational_0(3,5)\n",
    "r2=r1.plus(Rational_0(7,15))\n",
    "r2.print()"
   ]
  },
  {
   "cell_type": "markdown",
   "metadata": {},
   "source": [
    "<font size=3>\n",
    "**NOTE.**  \n",
    "    [1]. 一个好的ADT(abstract data type，抽象数据类型)定义希望不暴露内部的实现细节，有些编程语言提供了这种保护机制，但是Python仅仅是通过编程约定来实现这个机制。在Python系统中，约定用\"\\_\"（下划线）开头的函数名与属性名不在类对象外部使用，同时强制限制\"__\"（连续两个下划线）开头的属性名与函数名不能再类对象外部使用。  \n",
    "    [2]. Python中的静态方法（@staticmethod）,即定义在类中的普通函数，函数名以\"\\_\"（下划线）开头，参数表中不包含类本身self。可以通过抽象类名调用，也可以通过类的实例调用。\n",
    "</font>"
   ]
  },
  {
   "cell_type": "markdown",
   "metadata": {},
   "source": [
    "## code 2\n",
    "原书第41页【page 41】\n",
    "进阶版有理数类的定义"
   ]
  },
  {
   "cell_type": "code",
   "execution_count": 3,
   "metadata": {},
   "outputs": [],
   "source": [
    "class Rational_1:\n",
    "    # 辗转相除法求最大公约数\n",
    "    @staticmethod\n",
    "    def _gcd(a,b):\n",
    "        if b==0:\n",
    "            a,b=b,a\n",
    "        while a!=0:\n",
    "            a,b=b%a,a\n",
    "        return b\n",
    "    def __init__(self,num,den=1):\n",
    "        if not isinstance(num,int) or not isinstance(den,int):\n",
    "            raise TypeError\n",
    "        if den==0:\n",
    "            raise ZeroDivisionError\n",
    "        \n",
    "        sign=1 # 用于判断正负\n",
    "        if num<0:\n",
    "            num,sign=-num,-sign\n",
    "        if den<0:\n",
    "            den,sign=-den,-sign\n",
    "        \n",
    "        # 求最大公约数\n",
    "        g=Rational_1._gcd(num,den)\n",
    "        self._num=sign*(num//g)\n",
    "        self._den=den//g\n",
    "        \n",
    "    # 属性解析函数\n",
    "    def num(self): return self._num\n",
    "    def den(self): return self._den\n",
    "        \n",
    "    # 操作函数示例\n",
    "    def __add__(self,another):\n",
    "        num=self._num*another.den()+self._den*another.num()\n",
    "        den=self._den*another.den()\n",
    "        return Rational_1(num,den)\n",
    "    def __sub__(self,another):\n",
    "        num=self._num*another.den()-self._den*another.num()\n",
    "        den=self._den*another.den()\n",
    "        return Rational_1(num,den)\n",
    "    def __mul__(self,another):\n",
    "        num=self._num*another.num()\n",
    "        den=self._den*another.den()\n",
    "        return Rational_1(num,den)\n",
    "    def __floordiv__(self,another):\n",
    "        if another.num==0:\n",
    "            raise ZeroDivisionError\n",
    "        num=self._num*another.den()\n",
    "        den=self._den*another.num()\n",
    "        return Rational_1(num,den)\n",
    "    def __eg__(self,another):\n",
    "        return self._num*another.den()==self._den*another.num()\n",
    "    def __lt__(self,another):\n",
    "        return self._num*another.den()<self._den*another.num()\n",
    "    def __gt__(self,another):\n",
    "        return self._num*another.den()>self._den*another.num()\n",
    "    def __str__(self):\n",
    "        return \"{}/{}\".format(self._num,self._den)\n",
    "    def print(self):\n",
    "        print(\"{}/{}\".format(self._num,self._den))"
   ]
  },
  {
   "cell_type": "code",
   "execution_count": 4,
   "metadata": {},
   "outputs": [
    {
     "data": {
      "text/plain": [
       "'5/1'"
      ]
     },
     "execution_count": 4,
     "metadata": {},
     "output_type": "execute_result"
    }
   ],
   "source": [
    "# 测试 Rational_1 类的定义\n",
    "five=Rational_1(5)\n",
    "five.__str__()"
   ]
  },
  {
   "cell_type": "code",
   "execution_count": 5,
   "metadata": {},
   "outputs": [
    {
     "name": "stdout",
     "output_type": "stream",
     "text": [
      "3/5\n"
     ]
    }
   ],
   "source": [
    "x=Rational_1(3,5)\n",
    "x.print()"
   ]
  },
  {
   "cell_type": "code",
   "execution_count": 6,
   "metadata": {},
   "outputs": [
    {
     "name": "stdout",
     "output_type": "stream",
     "text": [
      "28/5\n",
      "-22/5\n",
      "3/1\n",
      "3/25\n"
     ]
    }
   ],
   "source": [
    "x.__add__(five).print()\n",
    "x.__sub__(five).print()\n",
    "x.__mul__(five).print()\n",
    "x.__floordiv__(five).print()"
   ]
  },
  {
   "cell_type": "code",
   "execution_count": 7,
   "metadata": {},
   "outputs": [
    {
     "name": "stdout",
     "output_type": "stream",
     "text": [
      "88/17\n",
      "True\n"
     ]
    }
   ],
   "source": [
    "y=five+x*Rational_1(5,17)\n",
    "y.print()\n",
    "print(y<Rational_1(123,11))"
   ]
  },
  {
   "cell_type": "code",
   "execution_count": 8,
   "metadata": {},
   "outputs": [
    {
     "data": {
      "text/plain": [
       "__main__.Rational_1"
      ]
     },
     "execution_count": 8,
     "metadata": {},
     "output_type": "execute_result"
    }
   ],
   "source": [
    "type(five)"
   ]
  },
  {
   "cell_type": "code",
   "execution_count": 9,
   "metadata": {},
   "outputs": [
    {
     "data": {
      "text/plain": [
       "True"
      ]
     },
     "execution_count": 9,
     "metadata": {},
     "output_type": "execute_result"
    }
   ],
   "source": [
    "isinstance(y,Rational_1)"
   ]
  },
  {
   "cell_type": "markdown",
   "metadata": {},
   "source": [
    "## code 3\n",
    "原书第48页【page 48】\n",
    "静态方法与类方法的定义\n",
    "\n",
    "#### [1]. @staticmethod\n",
    "#### [2]. @classmethod   类方法一般用于实现与本类所有对象相关的操作"
   ]
  },
  {
   "cell_type": "code",
   "execution_count": 13,
   "metadata": {},
   "outputs": [],
   "source": [
    "class countable:\n",
    "    _counter=0\n",
    "    def __inti__(self):\n",
    "        countable._counter+=1\n",
    "    \n",
    "    @classmethod\n",
    "    def get_count(countable):\n",
    "        return countable._counter"
   ]
  },
  {
   "cell_type": "code",
   "execution_count": 14,
   "metadata": {},
   "outputs": [
    {
     "name": "stdout",
     "output_type": "stream",
     "text": [
      "0\n"
     ]
    }
   ],
   "source": [
    "x=countable()\n",
    "y=countable()\n",
    "z=countable()\n",
    "\n",
    "print(countable.get_count())"
   ]
  },
  {
   "cell_type": "markdown",
   "metadata": {},
   "source": [
    "## code 4\n",
    "原书第52页【page 52】 \n",
    "Python中子类与父类继承过程中的动态函数调用约束;虚函数（对比掐他编程语言中函数调用的静态绑定）"
   ]
  },
  {
   "cell_type": "code",
   "execution_count": 15,
   "metadata": {},
   "outputs": [
    {
     "name": "stdout",
     "output_type": "stream",
     "text": [
      "b.g called.\n",
      "c.g called.\n"
     ]
    }
   ],
   "source": [
    "# code showing dynamic binding\n",
    "class b:\n",
    "    def f(self):\n",
    "        self.g()\n",
    "    def g(self):\n",
    "        print(\"b.g called.\")\n",
    "\n",
    "class c(b):\n",
    "    def g(self):\n",
    "        print(\"c.g called.\")\n",
    "\n",
    "x=b()\n",
    "y=c()\n",
    "\n",
    "x.f()\n",
    "y.f()"
   ]
  },
  {
   "cell_type": "markdown",
   "metadata": {},
   "source": [
    "## code 5\n",
    "原书第57页【page 57】 \n",
    "学校人事管理系统的实现（抽象数据类--[类的定义与继承、类函数、静态函数等的实现示例]）"
   ]
  },
  {
   "cell_type": "code",
   "execution_count": 16,
   "metadata": {},
   "outputs": [],
   "source": [
    "# 异常类的定义\n",
    "class PersonTypeError(TypeError):\n",
    "    pass\n",
    "class PersonValueError(ValueError):\n",
    "    pass"
   ]
  },
  {
   "cell_type": "code",
   "execution_count": 17,
   "metadata": {},
   "outputs": [],
   "source": [
    "# 公共人员类的定义\n",
    "import datetime\n",
    "class Person:\n",
    "    _num=0\n",
    "    def __init__(self,name,sex,birthday,ident):\n",
    "        if not isinstance(name,str) or not (sex in (\"男\",\"女\")):\n",
    "            raise PersonValueError(name,sex)\n",
    "        try:\n",
    "            birth=datetime.date(*birthday)\n",
    "        except:\n",
    "            raise PersonValueError(\"Wrong data, \",birthday)\n",
    "        \n",
    "        self._name=name\n",
    "        self._sex=sex\n",
    "        self._birthday=birth\n",
    "        self._id=ident\n",
    "        Person._num+=1\n",
    "        \n",
    "    def id(self): return self._id\n",
    "    def name(self): return self._name\n",
    "    def sex(self): return self._sex\n",
    "    def birthday(self): return self._birthday\n",
    "    def age(self): return (datetime.date.today().year-self._birthday.year)\n",
    "    def set_name(self,name):\n",
    "        if not isinstance(name,str):\n",
    "            raise PersonValueError(\"set_name: \",name)\n",
    "        self._name=name\n",
    "    def __lt__(self,another):\n",
    "        if not isinstance(another,Person):\n",
    "            raise PersonTypeError\n",
    "        return self._id < another._id\n",
    "    \n",
    "    def __str__(self):\n",
    "        return \" \".join((self._id,self._name,self._sex,str(self._birthday)))\n",
    "    def details(self):\n",
    "        return \", \".join((\"编号：\"+self._id,\"\\t姓名：\"+self._name,\"\\t性别：\"+self._sex,\"\\t出生日期：\"+str(self._birthday)))\n",
    "    \n",
    "    @classmethod\n",
    "    def num(cls): return Person._num"
   ]
  },
  {
   "cell_type": "code",
   "execution_count": 18,
   "metadata": {},
   "outputs": [],
   "source": [
    "p1=Person(\"萝卜干\",\"男\",(1997,7,20),\"000054450\")\n",
    "p2=Person(\"柳树根\",\"男\",(1995,8,20),\"003214300\")\n",
    "p3=Person(\"辣鸡\",\"女\",(1994,7,30),\"000235230\")\n",
    "p4=Person(\"服务器\",\"女\",(1962,1,25),\"000012124\")"
   ]
  },
  {
   "cell_type": "code",
   "execution_count": 20,
   "metadata": {},
   "outputs": [
    {
     "name": "stdout",
     "output_type": "stream",
     "text": [
      "one sorting:\n",
      "000054450 萝卜干 男 1997-07-20\n",
      "003214300 柳树根 男 1995-08-20\n",
      "000235230 辣鸡 女 1994-07-30\n",
      "000012124 服务器 女 1962-01-25\n",
      "Another sorting:\n",
      "编号：000012124, \t姓名：服务器, \t性别：女, \t出生日期：1962-01-25\n",
      "编号：000054450, \t姓名：萝卜干, \t性别：男, \t出生日期：1997-07-20\n",
      "编号：000235230, \t姓名：辣鸡, \t性别：女, \t出生日期：1994-07-30\n",
      "编号：003214300, \t姓名：柳树根, \t性别：男, \t出生日期：1995-08-20\n",
      "number of all person:4\n"
     ]
    }
   ],
   "source": [
    "print(\"one sorting:\")\n",
    "plist2=[p1,p2,p3,p4]\n",
    "for p in plist2:\n",
    "    print(p)\n",
    "\n",
    "print(\"Another sorting:\")\n",
    "plist2.sort()\n",
    "for p in plist2:\n",
    "    print(p.details())\n",
    "    \n",
    "print(\"number of all person:{}\".format(Person.num()))"
   ]
  },
  {
   "cell_type": "code",
   "execution_count": 21,
   "metadata": {},
   "outputs": [],
   "source": [
    "# 从Person类继承实现Student类\n",
    "class Student(Person):\n",
    "    _id_num=0 # 用于学生唯一计数编号\n",
    "    \n",
    "    # 使用类函数生成唯一ID学号\n",
    "    @classmethod\n",
    "    def _id_gen(cls):\n",
    "        cls._id_gen=1\n",
    "        year=datetime.date.today().year\n",
    "        return \"1{:04}{:05}\".format(year,cls._id_num)\n",
    "    \n",
    "    # 初始化Student类\n",
    "    def __init__(self,name,sex,birthday,department):\n",
    "        Person.__init__(self,name,sex,birthday,Student._id_gen())\n",
    "        self._department=department\n",
    "        self._enrool_data=datetime.date.today()\n",
    "        self._courses={} # 用一个空字典表示还没有修习课程，之后加入\n",
    "        \n",
    "    # 其它Student类型特有的方法\n",
    "    def set_course(self,course_name):\n",
    "        self._courses[course_name]=None\n",
    "    def sef__score(self,course_name,course_score):\n",
    "        if course_name not in self._courses:\n",
    "            print(\"No this course selected:\",course_name)\n",
    "        self._courses[course_name]=course_score\n",
    "    def scores(self):\n",
    "        return [(cname,self._courses[cname]) for cname in self.scores]\n",
    "    \n",
    "    # 根据“替换原理”在子类中定义与父类中同名的函数\n",
    "    def details(self):\n",
    "        return \", \".join((Person.details(self),\"\\t入学日期：\"+str(self._enrool_data),\"\\t院系：\"+self._department,\"\\t课程记录：\"+str(self._courses)))"
   ]
  },
  {
   "cell_type": "code",
   "execution_count": 22,
   "metadata": {},
   "outputs": [],
   "source": [
    "# 从Person类继承实现Stuff类\n",
    "class Stuff(Person):\n",
    "    _id_num=0\n",
    "    \n",
    "    @classmethod\n",
    "    def _id_gen(cls,birthday):\n",
    "        cls._id_num+=1\n",
    "        birth_year=datetime.date(*birthday).year\n",
    "        return \"0{:04}{:05}\".format(birth_year,cls._id_num)\n",
    "    def __init__(self,name,sex,birthday,entry_date=None):\n",
    "        super().__init__(name,sex,birthday,Stuff._id_gen(birthday))\n",
    "        \n",
    "        if entry_date:\n",
    "            try:\n",
    "                self._entry_date=datetime.date(*entry_date)\n",
    "            except:\n",
    "                raise PersonValueError(\"Wrong date:\",entry_date)\n",
    "        else:\n",
    "            self._entry_date=datetime.date.today()\n",
    "            \n",
    "        self._salary=1720 # 设定可修改的默认工资\n",
    "        self._department=\"未定\"\n",
    "        self._position=\"未定\" # 需要单独设定\n",
    "        \n",
    "    def set_salary(self,amount):\n",
    "        if not type(amount) is int:\n",
    "            raise TypeError\n",
    "        self._salary=amount\n",
    "    def set_department(self,department):\n",
    "        self._department=department\n",
    "    def set_position(self,position):\n",
    "        self._position=position\n",
    "    \n",
    "    def details(self):\n",
    "        return \", \".join((super().details(),\n",
    "                        \"\\t入职日期：\"+str(self._entry_date),\n",
    "                        \"\\t院系：\"+self._department,\n",
    "                        \"\\t职位：\"+self._position,\n",
    "                        \"\\t工资：\"+str(self._salary)))"
   ]
  },
  {
   "cell_type": "code",
   "execution_count": 23,
   "metadata": {},
   "outputs": [],
   "source": [
    "# 测试 Stuff 子类\n",
    "s1=Stuff(\"张三\",\"女\",(1974,10,16))\n",
    "s2=Stuff(\"李四\",\"男\",(1952,5,28))"
   ]
  },
  {
   "cell_type": "code",
   "execution_count": 24,
   "metadata": {},
   "outputs": [
    {
     "name": "stdout",
     "output_type": "stream",
     "text": [
      "0197400001 张三 女 1974-10-16\n",
      "0195200002 李四 男 1952-05-28\n"
     ]
    }
   ],
   "source": [
    "print(s1)\n",
    "print(s2)"
   ]
  },
  {
   "cell_type": "code",
   "execution_count": 25,
   "metadata": {},
   "outputs": [],
   "source": [
    "s1.set_department(\"数学\")\n",
    "s1.set_position(\"副教授\")\n",
    "s1.set_salary(8400)"
   ]
  },
  {
   "cell_type": "code",
   "execution_count": 27,
   "metadata": {},
   "outputs": [
    {
     "name": "stdout",
     "output_type": "stream",
     "text": [
      "编号：0197400001, \t姓名：张三, \t性别：女, \t出生日期：1974-10-16, \t入职日期：2018-09-10, \t院系：数学, \t职位：副教授, \t工资：8400\n",
      "编号：0195200002, \t姓名：李四, \t性别：男, \t出生日期：1952-05-28, \t入职日期：2018-09-10, \t院系：未定, \t职位：未定, \t工资：1720\n"
     ]
    }
   ],
   "source": [
    "print(s1.details())\n",
    "print(s2.details())"
   ]
  }
 ],
 "metadata": {
  "kernelspec": {
   "display_name": "Python 3",
   "language": "python",
   "name": "python3"
  },
  "language_info": {
   "codemirror_mode": {
    "name": "ipython",
    "version": 3
   },
   "file_extension": ".py",
   "mimetype": "text/x-python",
   "name": "python",
   "nbconvert_exporter": "python",
   "pygments_lexer": "ipython3",
   "version": "3.6.5"
  }
 },
 "nbformat": 4,
 "nbformat_minor": 2
}
